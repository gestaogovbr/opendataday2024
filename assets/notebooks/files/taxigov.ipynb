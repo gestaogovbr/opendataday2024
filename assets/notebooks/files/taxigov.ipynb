{
 "cells": [
  {
   "cell_type": "markdown",
   "id": "09f714b1-8e84-434b-88af-6276ab85c0dc",
   "metadata": {},
   "source": [
    "# Dataset: Corridas do TaxiGov"
   ]
  },
  {
   "cell_type": "markdown",
   "id": "a1bb6dc0-46be-4e4a-8104-4027bfcd37d3",
   "metadata": {},
   "source": [
    "Visualização: [TaxiGov na semana](https://economiagovbr.github.io/taxigovviz/)"
   ]
  },
  {
   "cell_type": "code",
   "execution_count": 8,
   "id": "70aee36d-3d6b-4fee-ba12-e472b61fefd4",
   "metadata": {},
   "outputs": [],
   "source": [
    "import pandas as pd\n",
    "import plotly.express as px"
   ]
  },
  {
   "cell_type": "code",
   "execution_count": 2,
   "id": "200d7fee-faa2-476d-82e0-fc9e423b6ff6",
   "metadata": {},
   "outputs": [],
   "source": [
    "df = pd.read_csv('http://repositorio.dados.gov.br/seges/taxigov/taxigov-passageiros-solicitantes-mes.zip')"
   ]
  },
  {
   "cell_type": "code",
   "execution_count": null,
   "id": "37402b34-39bb-4b81-91db-75eaf2640572",
   "metadata": {},
   "outputs": [],
   "source": [
    "pessoas_com_maiores_gastos = df[df.ano_mes == 202202].groupby(by='nome_passageiro').sum().sort_values('valor_corridas', ascending=False).head(10)\n",
    "pessoas_com_maiores_gastos"
   ]
  },
  {
   "cell_type": "code",
   "execution_count": null,
   "id": "3874ee79-7c64-43e3-a27a-d6245a144b54",
   "metadata": {},
   "outputs": [],
   "source": [
    "px.bar(\n",
    "    pessoas_com_maiores_gastos,\n",
    "    x=pessoas_com_maiores_gastos.index,\n",
    "    y=pessoas_com_maiores_gastos.valor_corridas\n",
    ")\n",
    "    "
   ]
  },
  {
   "cell_type": "code",
   "execution_count": null,
   "id": "e31ab353-6c3f-44a5-8ef5-0afe4d3ca906",
   "metadata": {},
   "outputs": [],
   "source": [
    "pessoas_e_gastos = df[df.ano_mes == 202202].groupby(by='nome_passageiro').sum().sort_values('valor_corridas', ascending=False)\n",
    "pessoas_e_gastos"
   ]
  },
  {
   "cell_type": "code",
   "execution_count": 19,
   "id": "5f938fc3-a7f5-41ee-b663-3a0f255cd93a",
   "metadata": {},
   "outputs": [
    {
     "data": {
      "text/plain": [
       "count    1467.000000\n",
       "mean      127.939577\n",
       "std       216.499422\n",
       "min         6.320000\n",
       "25%        20.520000\n",
       "50%        52.290000\n",
       "75%       137.590000\n",
       "max      2662.710000\n",
       "Name: valor_corridas, dtype: float64"
      ]
     },
     "execution_count": 19,
     "metadata": {},
     "output_type": "execute_result"
    }
   ],
   "source": [
    "pessoas_e_gastos.valor_corridas.describe()"
   ]
  }
 ],
 "metadata": {
  "kernelspec": {
   "display_name": "Python 3 (ipykernel)",
   "language": "python",
   "name": "python3"
  },
  "language_info": {
   "codemirror_mode": {
    "name": "ipython",
    "version": 3
   },
   "file_extension": ".py",
   "mimetype": "text/x-python",
   "name": "python",
   "nbconvert_exporter": "python",
   "pygments_lexer": "ipython3",
   "version": "3.9.7"
  }
 },
 "nbformat": 4,
 "nbformat_minor": 5
}
