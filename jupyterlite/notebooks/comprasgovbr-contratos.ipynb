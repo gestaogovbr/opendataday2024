{
 "cells": [
  {
   "cell_type": "markdown",
   "id": "dea038cc-18cf-40fd-9284-fccd4d8663f4",
   "metadata": {
    "tags": []
   },
   "source": [
    "# Dataset: Compras.gov.br Contratos"
   ]
  },
  {
   "cell_type": "markdown",
   "id": "00cb121b-5e1c-4013-a2dc-8a9600b89053",
   "metadata": {},
   "source": [
    "Origem dos dados: [dataset compras.gov.br contratos](https://dados.gov.br/dataset/comprasnet-contratos)"
   ]
  },
  {
   "cell_type": "code",
   "execution_count": 36,
   "id": "2d210d7c-d455-4892-aaac-27fe9416949c",
   "metadata": {},
   "outputs": [],
   "source": [
    "import pandas as pd\n",
    "import plotly.express as px"
   ]
  },
  {
   "cell_type": "code",
   "execution_count": 6,
   "id": "59cd45a5-43b3-4135-96f5-be24520b4f3b",
   "metadata": {},
   "outputs": [],
   "source": [
    "contratos_df = pd.read_csv('http://repositorio.dados.gov.br/seges/comprasnet_contratos/anual/comprasnet-contratos-anual-cronogramas-latest.csv')"
   ]
  },
  {
   "cell_type": "code",
   "execution_count": 7,
   "id": "4572733f-1d57-4d28-8dcf-ef43734eadf7",
   "metadata": {},
   "outputs": [
    {
     "data": {
      "text/html": [
       "<div>\n",
       "<style scoped>\n",
       "    .dataframe tbody tr th:only-of-type {\n",
       "        vertical-align: middle;\n",
       "    }\n",
       "\n",
       "    .dataframe tbody tr th {\n",
       "        vertical-align: top;\n",
       "    }\n",
       "\n",
       "    .dataframe thead th {\n",
       "        text-align: right;\n",
       "    }\n",
       "</style>\n",
       "<table border=\"1\" class=\"dataframe\">\n",
       "  <thead>\n",
       "    <tr style=\"text-align: right;\">\n",
       "      <th></th>\n",
       "      <th>id</th>\n",
       "      <th>contrato_id</th>\n",
       "      <th>tipo</th>\n",
       "      <th>numero</th>\n",
       "      <th>receita_despesa</th>\n",
       "      <th>observacao</th>\n",
       "      <th>mesref</th>\n",
       "      <th>anoref</th>\n",
       "      <th>vencimento</th>\n",
       "      <th>retroativo</th>\n",
       "      <th>valor</th>\n",
       "    </tr>\n",
       "  </thead>\n",
       "  <tbody>\n",
       "    <tr>\n",
       "      <th>0</th>\n",
       "      <td>28814917</td>\n",
       "      <td>78847</td>\n",
       "      <td>Termo de Apostilamento</td>\n",
       "      <td>00001/2022</td>\n",
       "      <td>Despesa</td>\n",
       "      <td>PROCESSO Nº: 01250.010675/2017-34\\r\\n\\r\\nCONTR...</td>\n",
       "      <td>NaN</td>\n",
       "      <td>NaN</td>\n",
       "      <td>2022-04-01</td>\n",
       "      <td>Não</td>\n",
       "      <td>4841.57</td>\n",
       "    </tr>\n",
       "    <tr>\n",
       "      <th>1</th>\n",
       "      <td>28814959</td>\n",
       "      <td>34254</td>\n",
       "      <td>Termo de Apostilamento</td>\n",
       "      <td>00003/2022</td>\n",
       "      <td>Despesa</td>\n",
       "      <td>O PRESENTE TERMO DE APOSTILAMENTO TEM POR OBJE...</td>\n",
       "      <td>NaN</td>\n",
       "      <td>NaN</td>\n",
       "      <td>2022-09-01</td>\n",
       "      <td>Não</td>\n",
       "      <td>343.66</td>\n",
       "    </tr>\n",
       "    <tr>\n",
       "      <th>2</th>\n",
       "      <td>28814935</td>\n",
       "      <td>137306</td>\n",
       "      <td>Contrato</td>\n",
       "      <td>00003/2021</td>\n",
       "      <td>Despesa</td>\n",
       "      <td>CELEBRAÇÃO DO CONTRATO: 00003/2021 DE ACORDO C...</td>\n",
       "      <td>NaN</td>\n",
       "      <td>NaN</td>\n",
       "      <td>2023-03-01</td>\n",
       "      <td>Não</td>\n",
       "      <td>841.05</td>\n",
       "    </tr>\n",
       "    <tr>\n",
       "      <th>3</th>\n",
       "      <td>28814919</td>\n",
       "      <td>78847</td>\n",
       "      <td>Termo de Apostilamento</td>\n",
       "      <td>00001/2022</td>\n",
       "      <td>Despesa</td>\n",
       "      <td>PROCESSO Nº: 01250.010675/2017-34\\r\\n\\r\\nCONTR...</td>\n",
       "      <td>NaN</td>\n",
       "      <td>NaN</td>\n",
       "      <td>2022-06-01</td>\n",
       "      <td>Não</td>\n",
       "      <td>4841.57</td>\n",
       "    </tr>\n",
       "    <tr>\n",
       "      <th>4</th>\n",
       "      <td>27960548</td>\n",
       "      <td>7016</td>\n",
       "      <td>Termo de Apostilamento</td>\n",
       "      <td>00001/2021</td>\n",
       "      <td>Despesa</td>\n",
       "      <td>REAJUSTE ANUAL DO ALUGUEL, CONFORME CONTRATO</td>\n",
       "      <td>NaN</td>\n",
       "      <td>NaN</td>\n",
       "      <td>2021-03-01</td>\n",
       "      <td>Sim</td>\n",
       "      <td>1318.09</td>\n",
       "    </tr>\n",
       "    <tr>\n",
       "      <th>...</th>\n",
       "      <td>...</td>\n",
       "      <td>...</td>\n",
       "      <td>...</td>\n",
       "      <td>...</td>\n",
       "      <td>...</td>\n",
       "      <td>...</td>\n",
       "      <td>...</td>\n",
       "      <td>...</td>\n",
       "      <td>...</td>\n",
       "      <td>...</td>\n",
       "      <td>...</td>\n",
       "    </tr>\n",
       "    <tr>\n",
       "      <th>502798</th>\n",
       "      <td>28005427</td>\n",
       "      <td>131818</td>\n",
       "      <td>Termo Aditivo</td>\n",
       "      <td>00001/2016</td>\n",
       "      <td>Despesa</td>\n",
       "      <td>PRORROGAR O PRAZO DE VIGÊNCIA DO CONTRATO ORIG...</td>\n",
       "      <td>NaN</td>\n",
       "      <td>NaN</td>\n",
       "      <td>2017-03-01</td>\n",
       "      <td>Não</td>\n",
       "      <td>8985.54</td>\n",
       "    </tr>\n",
       "    <tr>\n",
       "      <th>502799</th>\n",
       "      <td>28005273</td>\n",
       "      <td>18497</td>\n",
       "      <td>Termo de Apostilamento</td>\n",
       "      <td>00001/2019</td>\n",
       "      <td>Despesa</td>\n",
       "      <td>REAJUSTE DE 4% (QUATRO POR CENTO), EM DECORRÊN...</td>\n",
       "      <td>NaN</td>\n",
       "      <td>NaN</td>\n",
       "      <td>2018-11-16</td>\n",
       "      <td>Sim</td>\n",
       "      <td>268.05</td>\n",
       "    </tr>\n",
       "    <tr>\n",
       "      <th>502800</th>\n",
       "      <td>28016818</td>\n",
       "      <td>3117</td>\n",
       "      <td>Termo de Apostilamento</td>\n",
       "      <td>00001/2017</td>\n",
       "      <td>Despesa</td>\n",
       "      <td>REAJUSTE DO VALOR CONTRATADO PASSANDO ESTE A S...</td>\n",
       "      <td>NaN</td>\n",
       "      <td>NaN</td>\n",
       "      <td>2052-01-01</td>\n",
       "      <td>Não</td>\n",
       "      <td>880.21</td>\n",
       "    </tr>\n",
       "    <tr>\n",
       "      <th>502801</th>\n",
       "      <td>28016838</td>\n",
       "      <td>3117</td>\n",
       "      <td>Termo de Apostilamento</td>\n",
       "      <td>00001/2017</td>\n",
       "      <td>Despesa</td>\n",
       "      <td>REAJUSTE DO VALOR CONTRATADO PASSANDO ESTE A S...</td>\n",
       "      <td>NaN</td>\n",
       "      <td>NaN</td>\n",
       "      <td>2053-09-01</td>\n",
       "      <td>Não</td>\n",
       "      <td>880.21</td>\n",
       "    </tr>\n",
       "    <tr>\n",
       "      <th>502802</th>\n",
       "      <td>28017082</td>\n",
       "      <td>3117</td>\n",
       "      <td>Termo de Apostilamento</td>\n",
       "      <td>00001/2017</td>\n",
       "      <td>Despesa</td>\n",
       "      <td>REAJUSTE DO VALOR CONTRATADO PASSANDO ESTE A S...</td>\n",
       "      <td>NaN</td>\n",
       "      <td>NaN</td>\n",
       "      <td>2074-01-01</td>\n",
       "      <td>Não</td>\n",
       "      <td>880.21</td>\n",
       "    </tr>\n",
       "  </tbody>\n",
       "</table>\n",
       "<p>502803 rows × 11 columns</p>\n",
       "</div>"
      ],
      "text/plain": [
       "              id  contrato_id                    tipo      numero  \\\n",
       "0       28814917        78847  Termo de Apostilamento  00001/2022   \n",
       "1       28814959        34254  Termo de Apostilamento  00003/2022   \n",
       "2       28814935       137306                Contrato  00003/2021   \n",
       "3       28814919        78847  Termo de Apostilamento  00001/2022   \n",
       "4       27960548         7016  Termo de Apostilamento  00001/2021   \n",
       "...          ...          ...                     ...         ...   \n",
       "502798  28005427       131818           Termo Aditivo  00001/2016   \n",
       "502799  28005273        18497  Termo de Apostilamento  00001/2019   \n",
       "502800  28016818         3117  Termo de Apostilamento  00001/2017   \n",
       "502801  28016838         3117  Termo de Apostilamento  00001/2017   \n",
       "502802  28017082         3117  Termo de Apostilamento  00001/2017   \n",
       "\n",
       "       receita_despesa                                         observacao  \\\n",
       "0              Despesa  PROCESSO Nº: 01250.010675/2017-34\\r\\n\\r\\nCONTR...   \n",
       "1              Despesa  O PRESENTE TERMO DE APOSTILAMENTO TEM POR OBJE...   \n",
       "2              Despesa  CELEBRAÇÃO DO CONTRATO: 00003/2021 DE ACORDO C...   \n",
       "3              Despesa  PROCESSO Nº: 01250.010675/2017-34\\r\\n\\r\\nCONTR...   \n",
       "4              Despesa       REAJUSTE ANUAL DO ALUGUEL, CONFORME CONTRATO   \n",
       "...                ...                                                ...   \n",
       "502798         Despesa  PRORROGAR O PRAZO DE VIGÊNCIA DO CONTRATO ORIG...   \n",
       "502799         Despesa  REAJUSTE DE 4% (QUATRO POR CENTO), EM DECORRÊN...   \n",
       "502800         Despesa  REAJUSTE DO VALOR CONTRATADO PASSANDO ESTE A S...   \n",
       "502801         Despesa  REAJUSTE DO VALOR CONTRATADO PASSANDO ESTE A S...   \n",
       "502802         Despesa  REAJUSTE DO VALOR CONTRATADO PASSANDO ESTE A S...   \n",
       "\n",
       "        mesref  anoref  vencimento retroativo    valor  \n",
       "0          NaN     NaN  2022-04-01        Não  4841.57  \n",
       "1          NaN     NaN  2022-09-01        Não   343.66  \n",
       "2          NaN     NaN  2023-03-01        Não   841.05  \n",
       "3          NaN     NaN  2022-06-01        Não  4841.57  \n",
       "4          NaN     NaN  2021-03-01        Sim  1318.09  \n",
       "...        ...     ...         ...        ...      ...  \n",
       "502798     NaN     NaN  2017-03-01        Não  8985.54  \n",
       "502799     NaN     NaN  2018-11-16        Sim   268.05  \n",
       "502800     NaN     NaN  2052-01-01        Não   880.21  \n",
       "502801     NaN     NaN  2053-09-01        Não   880.21  \n",
       "502802     NaN     NaN  2074-01-01        Não   880.21  \n",
       "\n",
       "[502803 rows x 11 columns]"
      ]
     },
     "execution_count": 7,
     "metadata": {},
     "output_type": "execute_result"
    }
   ],
   "source": [
    "contratos_df"
   ]
  },
  {
   "cell_type": "code",
   "execution_count": 12,
   "id": "c15ddeac-762c-4ec0-8175-9259e8467cef",
   "metadata": {},
   "outputs": [
    {
     "data": {
      "text/plain": [
       "array([nan])"
      ]
     },
     "execution_count": 12,
     "metadata": {},
     "output_type": "execute_result"
    }
   ],
   "source": [
    "contratos_df.anoref.unique()"
   ]
  },
  {
   "cell_type": "code",
   "execution_count": 14,
   "id": "9aa44936-668f-4ba8-b24e-8a39f9346260",
   "metadata": {},
   "outputs": [
    {
     "data": {
      "text/plain": [
       "Index(['id', 'contrato_id', 'tipo', 'numero', 'receita_despesa', 'observacao',\n",
       "       'mesref', 'anoref', 'vencimento', 'retroativo', 'valor'],\n",
       "      dtype='object')"
      ]
     },
     "execution_count": 14,
     "metadata": {},
     "output_type": "execute_result"
    }
   ],
   "source": [
    "contratos_df.columns"
   ]
  },
  {
   "cell_type": "code",
   "execution_count": 4,
   "id": "f0bac16f-a1dc-4e8d-a289-ce790c649d34",
   "metadata": {},
   "outputs": [],
   "source": [
    "itens_df = pd.read_csv('http://repositorio.dados.gov.br/seges/comprasnet_contratos/anual/comprasnet-contratos-anual-itens-latest.csv')"
   ]
  },
  {
   "cell_type": "code",
   "execution_count": 5,
   "id": "539886a2-9043-48ee-bcc0-aa8a2f0add7d",
   "metadata": {},
   "outputs": [
    {
     "data": {
      "text/html": [
       "<div>\n",
       "<style scoped>\n",
       "    .dataframe tbody tr th:only-of-type {\n",
       "        vertical-align: middle;\n",
       "    }\n",
       "\n",
       "    .dataframe tbody tr th {\n",
       "        vertical-align: top;\n",
       "    }\n",
       "\n",
       "    .dataframe thead th {\n",
       "        text-align: right;\n",
       "    }\n",
       "</style>\n",
       "<table border=\"1\" class=\"dataframe\">\n",
       "  <thead>\n",
       "    <tr style=\"text-align: right;\">\n",
       "      <th></th>\n",
       "      <th>id</th>\n",
       "      <th>contrato_id</th>\n",
       "      <th>tipo_id</th>\n",
       "      <th>grupo_id</th>\n",
       "      <th>catmatseritem_id</th>\n",
       "      <th>descricao_complementar</th>\n",
       "      <th>quantidade</th>\n",
       "      <th>valorunitario</th>\n",
       "      <th>valortotal</th>\n",
       "    </tr>\n",
       "  </thead>\n",
       "  <tbody>\n",
       "    <tr>\n",
       "      <th>0</th>\n",
       "      <td>852820</td>\n",
       "      <td>136049</td>\n",
       "      <td>Serviço</td>\n",
       "      <td>GRUPO GENERICO SERVICO</td>\n",
       "      <td>10049 - PUBLICAÇÃO, IMPRESSÃO DE JORNAL , REVI...</td>\n",
       "      <td>PUBLICAÇÃO, IMPRESSÃO DE JORNAL , REVISTA , LIVRO</td>\n",
       "      <td>8.0</td>\n",
       "      <td>1000.00</td>\n",
       "      <td>8000.00</td>\n",
       "    </tr>\n",
       "    <tr>\n",
       "      <th>1</th>\n",
       "      <td>852831</td>\n",
       "      <td>136053</td>\n",
       "      <td>Serviço</td>\n",
       "      <td>GRUPO GENERICO SERVICO</td>\n",
       "      <td>3719 - PRESTAÇAO DE SERVIÇOS DE AGENCIAMENTO D...</td>\n",
       "      <td>PRESTAÇAO DE SERVIÇOS DE AGENCIAMENTO DE VIAGENS</td>\n",
       "      <td>96.0</td>\n",
       "      <td>0.01</td>\n",
       "      <td>0.96</td>\n",
       "    </tr>\n",
       "    <tr>\n",
       "      <th>2</th>\n",
       "      <td>852835</td>\n",
       "      <td>136054</td>\n",
       "      <td>Material</td>\n",
       "      <td>GRUPO GENERICO MATERIAIS</td>\n",
       "      <td>150515 - LIVRO</td>\n",
       "      <td>LIVRO</td>\n",
       "      <td>261.0</td>\n",
       "      <td>100.00</td>\n",
       "      <td>26100.00</td>\n",
       "    </tr>\n",
       "    <tr>\n",
       "      <th>3</th>\n",
       "      <td>852823</td>\n",
       "      <td>136049</td>\n",
       "      <td>Serviço</td>\n",
       "      <td>GRUPO GENERICO SERVICO</td>\n",
       "      <td>10049 - PUBLICAÇÃO, IMPRESSÃO DE JORNAL , REVI...</td>\n",
       "      <td>PUBLICAÇÃO, IMPRESSÃO DE JORNAL , REVISTA , LIVRO</td>\n",
       "      <td>8.0</td>\n",
       "      <td>1000.00</td>\n",
       "      <td>8000.00</td>\n",
       "    </tr>\n",
       "    <tr>\n",
       "      <th>4</th>\n",
       "      <td>852824</td>\n",
       "      <td>136050</td>\n",
       "      <td>Serviço</td>\n",
       "      <td>GRUPO GENERICO SERVICO</td>\n",
       "      <td>13030 - MANUTENÇÃO DE PRENSA</td>\n",
       "      <td>MANUTENÇÃO DE PRENSA</td>\n",
       "      <td>1.0</td>\n",
       "      <td>38900.00</td>\n",
       "      <td>38900.00</td>\n",
       "    </tr>\n",
       "    <tr>\n",
       "      <th>...</th>\n",
       "      <td>...</td>\n",
       "      <td>...</td>\n",
       "      <td>...</td>\n",
       "      <td>...</td>\n",
       "      <td>...</td>\n",
       "      <td>...</td>\n",
       "      <td>...</td>\n",
       "      <td>...</td>\n",
       "      <td>...</td>\n",
       "    </tr>\n",
       "    <tr>\n",
       "      <th>65100</th>\n",
       "      <td>800535</td>\n",
       "      <td>128390</td>\n",
       "      <td>Serviço</td>\n",
       "      <td>GRUPO GENERICO SERVICO</td>\n",
       "      <td>22365 - SERVIÇOS DE TELECOMUNICAÇÕES</td>\n",
       "      <td>SERVIÇOS DE TELECOMUNICAÇÕES</td>\n",
       "      <td>30.0</td>\n",
       "      <td>2170.00</td>\n",
       "      <td>65100.00</td>\n",
       "    </tr>\n",
       "    <tr>\n",
       "      <th>65101</th>\n",
       "      <td>800637</td>\n",
       "      <td>128426</td>\n",
       "      <td>Serviço</td>\n",
       "      <td>GRUPO GENERICO SERVICO</td>\n",
       "      <td>680 - AUDITORIA EM ÁREA CONTÁBIL</td>\n",
       "      <td>AUDITORIA EM ÁREA CONTÁBIL</td>\n",
       "      <td>1.0</td>\n",
       "      <td>0.01</td>\n",
       "      <td>0.01</td>\n",
       "    </tr>\n",
       "    <tr>\n",
       "      <th>65102</th>\n",
       "      <td>800615</td>\n",
       "      <td>128421</td>\n",
       "      <td>Serviço</td>\n",
       "      <td>GRUPO GENERICO SERVICO</td>\n",
       "      <td>15156 - ADMINISTRAÇÃO , EXECUÇÃO PROJETO EDUCA...</td>\n",
       "      <td>ADMINISTRAÇÃO / EXECUÇÃO PROJETO EDUCACIONAL -...</td>\n",
       "      <td>1.0</td>\n",
       "      <td>3765822.97</td>\n",
       "      <td>3765822.97</td>\n",
       "    </tr>\n",
       "    <tr>\n",
       "      <th>65103</th>\n",
       "      <td>800748</td>\n",
       "      <td>128455</td>\n",
       "      <td>Serviço</td>\n",
       "      <td>GRUPO GENERICO SERVICO</td>\n",
       "      <td>24015 - SERVIÇO DE VIGILÂNCIA ARMADA</td>\n",
       "      <td>SERVIÇO DE VIGILÂNCIA ARMADA</td>\n",
       "      <td>12.0</td>\n",
       "      <td>21632.64</td>\n",
       "      <td>259591.68</td>\n",
       "    </tr>\n",
       "    <tr>\n",
       "      <th>65104</th>\n",
       "      <td>800935</td>\n",
       "      <td>128513</td>\n",
       "      <td>Serviço</td>\n",
       "      <td>GRUPO GENERICO SERVICO</td>\n",
       "      <td>12920 - ASSISTÊNCIA MÉDICA - HOSPITALAR / DOMI...</td>\n",
       "      <td>ASSISTÊNCIA MÉDICA - HOSPITALAR , DOMICILIAR C...</td>\n",
       "      <td>1.0</td>\n",
       "      <td>60000.00</td>\n",
       "      <td>60000.00</td>\n",
       "    </tr>\n",
       "  </tbody>\n",
       "</table>\n",
       "<p>65105 rows × 9 columns</p>\n",
       "</div>"
      ],
      "text/plain": [
       "           id  contrato_id   tipo_id                  grupo_id  \\\n",
       "0      852820       136049   Serviço    GRUPO GENERICO SERVICO   \n",
       "1      852831       136053   Serviço    GRUPO GENERICO SERVICO   \n",
       "2      852835       136054  Material  GRUPO GENERICO MATERIAIS   \n",
       "3      852823       136049   Serviço    GRUPO GENERICO SERVICO   \n",
       "4      852824       136050   Serviço    GRUPO GENERICO SERVICO   \n",
       "...       ...          ...       ...                       ...   \n",
       "65100  800535       128390   Serviço    GRUPO GENERICO SERVICO   \n",
       "65101  800637       128426   Serviço    GRUPO GENERICO SERVICO   \n",
       "65102  800615       128421   Serviço    GRUPO GENERICO SERVICO   \n",
       "65103  800748       128455   Serviço    GRUPO GENERICO SERVICO   \n",
       "65104  800935       128513   Serviço    GRUPO GENERICO SERVICO   \n",
       "\n",
       "                                        catmatseritem_id  \\\n",
       "0      10049 - PUBLICAÇÃO, IMPRESSÃO DE JORNAL , REVI...   \n",
       "1      3719 - PRESTAÇAO DE SERVIÇOS DE AGENCIAMENTO D...   \n",
       "2                                         150515 - LIVRO   \n",
       "3      10049 - PUBLICAÇÃO, IMPRESSÃO DE JORNAL , REVI...   \n",
       "4                           13030 - MANUTENÇÃO DE PRENSA   \n",
       "...                                                  ...   \n",
       "65100               22365 - SERVIÇOS DE TELECOMUNICAÇÕES   \n",
       "65101                   680 - AUDITORIA EM ÁREA CONTÁBIL   \n",
       "65102  15156 - ADMINISTRAÇÃO , EXECUÇÃO PROJETO EDUCA...   \n",
       "65103               24015 - SERVIÇO DE VIGILÂNCIA ARMADA   \n",
       "65104  12920 - ASSISTÊNCIA MÉDICA - HOSPITALAR / DOMI...   \n",
       "\n",
       "                                  descricao_complementar  quantidade  \\\n",
       "0      PUBLICAÇÃO, IMPRESSÃO DE JORNAL , REVISTA , LIVRO         8.0   \n",
       "1       PRESTAÇAO DE SERVIÇOS DE AGENCIAMENTO DE VIAGENS        96.0   \n",
       "2                                                  LIVRO       261.0   \n",
       "3      PUBLICAÇÃO, IMPRESSÃO DE JORNAL , REVISTA , LIVRO         8.0   \n",
       "4                                   MANUTENÇÃO DE PRENSA         1.0   \n",
       "...                                                  ...         ...   \n",
       "65100                       SERVIÇOS DE TELECOMUNICAÇÕES        30.0   \n",
       "65101                         AUDITORIA EM ÁREA CONTÁBIL         1.0   \n",
       "65102  ADMINISTRAÇÃO / EXECUÇÃO PROJETO EDUCACIONAL -...         1.0   \n",
       "65103                       SERVIÇO DE VIGILÂNCIA ARMADA        12.0   \n",
       "65104  ASSISTÊNCIA MÉDICA - HOSPITALAR , DOMICILIAR C...         1.0   \n",
       "\n",
       "       valorunitario  valortotal  \n",
       "0            1000.00     8000.00  \n",
       "1               0.01        0.96  \n",
       "2             100.00    26100.00  \n",
       "3            1000.00     8000.00  \n",
       "4           38900.00    38900.00  \n",
       "...              ...         ...  \n",
       "65100        2170.00    65100.00  \n",
       "65101           0.01        0.01  \n",
       "65102     3765822.97  3765822.97  \n",
       "65103       21632.64   259591.68  \n",
       "65104       60000.00    60000.00  \n",
       "\n",
       "[65105 rows x 9 columns]"
      ]
     },
     "execution_count": 5,
     "metadata": {},
     "output_type": "execute_result"
    }
   ],
   "source": [
    "itens_df"
   ]
  },
  {
   "cell_type": "code",
   "execution_count": 10,
   "id": "4bbfb7be-9690-4640-bf62-3715da238b1b",
   "metadata": {},
   "outputs": [
    {
     "data": {
      "text/plain": [
       "None                                                                                                          19064\n",
       "undefined                                                                                                      3137\n",
       "SERVIÇO ENGENHARIA                                                                                             1411\n",
       "PRESTAÇÃO DE SERVIÇOS DE APOIO ADMINISTRATIVO                                                                  1095\n",
       "AR CONDICIONADO - MANUTENÇÃO DE SISTEMAS , LIMPEZA                                                              789\n",
       "SERVIÇO DE ALMOXARIFADO  VIRTUAL DE MATERIAL DE CONSUMO ADMINISTRATIVO - GERENCIAMENTO DE MEIOS LOGÍSTICOS      694\n",
       "MICROCOMPUTADOR                                                                                                 680\n",
       "AR CONDICIONADO - MANUTENÇÃO DE APARELHOS DE PAREDE                                                             512\n",
       "MANUTENÇÃO , REFORMA PREDIAL                                                                                    451\n",
       "ASSISTÊNCIA MÉDICA - HOSPITALAR , DOMICILIAR COMPLEMENTAR DESAÚDE , CONVÊNIO                                    449\n",
       "CHAMADAS NACIONAIS FIXO-FIXO STFC-LDN-FF (DEGRAUS 1 A 4)                                                        439\n",
       "CHAMADAS LOCAIS FIXO-MOVEL STFC-LOCAL-FM (VC1)                                                                  433\n",
       "CHAMADAS LOCAIS FIXO-FIXO STFC-LOCAL-FF                                                                         430\n",
       "BEBEDOURO ÁGUA GARRAFÃO                                                                                         424\n",
       "LEGUME IN NATURA                                                                                                393\n",
       "CHAMADAS NACIONAIS FIXO-MOVEL - STFC-LDN-FM (VC2 E VC3)                                                         380\n",
       "PARAFUSO METÁLICO                                                                                               374\n",
       "SERVIÇO ESPECIALIZADO DE LIMPEZA                                                                                369\n",
       "FRUTA                                                                                                           361\n",
       "PRESTAÇÃO DE SERVIÇOS DE MOTORISTA                                                                              359\n",
       "MANUTENÇÃO DE VEÍCULOS LEVES E PESADOS                                                                          325\n",
       "AR CONDICIONADO - MANUTENÇÃO SISTEMA CENTRAL                                                                    308\n",
       "CHAMADAS INTERNACIONAIS (LDI-STFC-FFM) - ORIGEM FIXO                                                            295\n",
       "ASSISTÊNCIA MÉDICA - HOSPITALAR / DOMICILIAR COMPLEMENTAR DESAÚDE / CONVÊNIO                                    294\n",
       "PRESTAÇÃO DE SERVIÇO DE LIMPEZA E CONSERVAÇÃO - OUTRAS      NECESSIDADES                                        289\n",
       "ADMINISTRAÇÃO , GERENCIAMENTO-MANUTENÇÃO VEÍCULO AUTOMOTIVO                                                     269\n",
       "CONTROLE DE ABASTECIMENTO DE VEÍCULOS                                                                           265\n",
       "GASOLINA                                                                                                        265\n",
       "SERVIÇO DE VIGILÂNCIA ARMADA                                                                                    253\n",
       "FARDAMENTO / ACESSÓRIO                                                                                          246\n",
       "MANUTENÇÃO / REFORMA PREDIAL                                                                                    238\n",
       "FORNECIMENTO DE ÁGUA E COLETA DE ESGOTO SANITÁRIO                                                               235\n",
       "PACOTE DE SERVICOS SMP (VOZ, DADOS, SMS, ETC)                                                                   227\n",
       "ELABORAÇÃO / ANÁLISE PROJETO - ENGENHARIA                                                                       222\n",
       "PEÇAS E ACESSÓRIOS FERRAMENTAS                                                                                  218\n",
       "MANUTENÇÃO DE MOTORES A COMBUSTÃO                                                                               214\n",
       "NOTEBOOK                                                                                                        211\n",
       "MANUTENÇÃO DE SISTEMAS DE REFRIGERAÇÃO                                                                          205\n",
       "RAÇÃO HUMANA DE EMERGÊNCIA                                                                                      198\n",
       "AR CONDICIONADO - MANUTENÇÃO DE SISTEMAS / LIMPEZA                                                              195\n",
       "Name: descricao_complementar, dtype: int64"
      ]
     },
     "execution_count": 10,
     "metadata": {},
     "output_type": "execute_result"
    }
   ],
   "source": [
    "itens_df.descricao_complementar.value_counts().head(40)"
   ]
  },
  {
   "cell_type": "code",
   "execution_count": 13,
   "id": "132776d7-528b-4ea2-80ab-4540e5a814fa",
   "metadata": {},
   "outputs": [
    {
     "data": {
      "text/html": [
       "<div>\n",
       "<style scoped>\n",
       "    .dataframe tbody tr th:only-of-type {\n",
       "        vertical-align: middle;\n",
       "    }\n",
       "\n",
       "    .dataframe tbody tr th {\n",
       "        vertical-align: top;\n",
       "    }\n",
       "\n",
       "    .dataframe thead th {\n",
       "        text-align: right;\n",
       "    }\n",
       "</style>\n",
       "<table border=\"1\" class=\"dataframe\">\n",
       "  <thead>\n",
       "    <tr style=\"text-align: right;\">\n",
       "      <th></th>\n",
       "      <th>id</th>\n",
       "      <th>contrato_id</th>\n",
       "      <th>tipo_id</th>\n",
       "      <th>grupo_id</th>\n",
       "      <th>catmatseritem_id</th>\n",
       "      <th>descricao_complementar</th>\n",
       "      <th>quantidade</th>\n",
       "      <th>valorunitario</th>\n",
       "      <th>valortotal</th>\n",
       "    </tr>\n",
       "  </thead>\n",
       "  <tbody>\n",
       "    <tr>\n",
       "      <th>160</th>\n",
       "      <td>853146</td>\n",
       "      <td>136099</td>\n",
       "      <td>Serviço</td>\n",
       "      <td>GRUPO GENERICO SERVICO</td>\n",
       "      <td>15008 - PRESTAÇÃO DE SERVIÇOS DE MOTORISTA</td>\n",
       "      <td>PRESTAÇÃO DE SERVIÇOS DE MOTORISTA</td>\n",
       "      <td>1.0</td>\n",
       "      <td>5760.72</td>\n",
       "      <td>69128.64</td>\n",
       "    </tr>\n",
       "    <tr>\n",
       "      <th>298</th>\n",
       "      <td>830370</td>\n",
       "      <td>132157</td>\n",
       "      <td>Serviço</td>\n",
       "      <td>GRUPO GENERICO SERVICO</td>\n",
       "      <td>15008 - PRESTAÇÃO DE SERVIÇOS DE MOTORISTA</td>\n",
       "      <td>PRESTAÇÃO DE SERVIÇOS DE MOTORISTA</td>\n",
       "      <td>1.0</td>\n",
       "      <td>4246.63</td>\n",
       "      <td>50959.56</td>\n",
       "    </tr>\n",
       "    <tr>\n",
       "      <th>1764</th>\n",
       "      <td>790582</td>\n",
       "      <td>124166</td>\n",
       "      <td>Serviço</td>\n",
       "      <td>GRUPO GENERICO SERVICO</td>\n",
       "      <td>15008 - PRESTAÇÃO DE SERVIÇOS DE MOTORISTA</td>\n",
       "      <td>PRESTAÇÃO DE SERVIÇOS DE MOTORISTA</td>\n",
       "      <td>3.0</td>\n",
       "      <td>7945.69</td>\n",
       "      <td>286044.84</td>\n",
       "    </tr>\n",
       "    <tr>\n",
       "      <th>1876</th>\n",
       "      <td>839793</td>\n",
       "      <td>133974</td>\n",
       "      <td>Serviço</td>\n",
       "      <td>GRUPO GENERICO SERVICO</td>\n",
       "      <td>15008 - PRESTAÇÃO DE SERVIÇOS DE MOTORISTA</td>\n",
       "      <td>PRESTAÇÃO DE SERVIÇOS DE MOTORISTA</td>\n",
       "      <td>1.0</td>\n",
       "      <td>58362.12</td>\n",
       "      <td>58362.12</td>\n",
       "    </tr>\n",
       "    <tr>\n",
       "      <th>1949</th>\n",
       "      <td>839795</td>\n",
       "      <td>133974</td>\n",
       "      <td>Serviço</td>\n",
       "      <td>GRUPO GENERICO SERVICO</td>\n",
       "      <td>15008 - PRESTAÇÃO DE SERVIÇOS DE MOTORISTA</td>\n",
       "      <td>PRESTAÇÃO DE SERVIÇOS DE MOTORISTA</td>\n",
       "      <td>1.0</td>\n",
       "      <td>52441.32</td>\n",
       "      <td>52441.32</td>\n",
       "    </tr>\n",
       "    <tr>\n",
       "      <th>...</th>\n",
       "      <td>...</td>\n",
       "      <td>...</td>\n",
       "      <td>...</td>\n",
       "      <td>...</td>\n",
       "      <td>...</td>\n",
       "      <td>...</td>\n",
       "      <td>...</td>\n",
       "      <td>...</td>\n",
       "      <td>...</td>\n",
       "    </tr>\n",
       "    <tr>\n",
       "      <th>63993</th>\n",
       "      <td>851040</td>\n",
       "      <td>135721</td>\n",
       "      <td>Serviço</td>\n",
       "      <td>GRUPO GENERICO SERVICO</td>\n",
       "      <td>15008 - PRESTAÇÃO DE SERVIÇOS DE MOTORISTA</td>\n",
       "      <td>PRESTAÇÃO DE SERVIÇOS DE MOTORISTA</td>\n",
       "      <td>3.0</td>\n",
       "      <td>43822.93</td>\n",
       "      <td>131468.79</td>\n",
       "    </tr>\n",
       "    <tr>\n",
       "      <th>64389</th>\n",
       "      <td>851465</td>\n",
       "      <td>106566</td>\n",
       "      <td>Serviço</td>\n",
       "      <td>GRUPO GENERICO SERVICO</td>\n",
       "      <td>15008 - PRESTAÇÃO DE SERVIÇOS DE MOTORISTA</td>\n",
       "      <td>PRESTAÇÃO DE SERVIÇOS DE MOTORISTA</td>\n",
       "      <td>4.0</td>\n",
       "      <td>24758.94</td>\n",
       "      <td>99035.76</td>\n",
       "    </tr>\n",
       "    <tr>\n",
       "      <th>64756</th>\n",
       "      <td>851883</td>\n",
       "      <td>135400</td>\n",
       "      <td>Serviço</td>\n",
       "      <td>GRUPO GENERICO SERVICO</td>\n",
       "      <td>15008 - PRESTAÇÃO DE SERVIÇOS DE MOTORISTA</td>\n",
       "      <td>PRESTAÇÃO DE SERVIÇOS DE MOTORISTA</td>\n",
       "      <td>1.0</td>\n",
       "      <td>3372.60</td>\n",
       "      <td>40471.20</td>\n",
       "    </tr>\n",
       "    <tr>\n",
       "      <th>64959</th>\n",
       "      <td>852211</td>\n",
       "      <td>135963</td>\n",
       "      <td>Serviço</td>\n",
       "      <td>GRUPO GENERICO SERVICO</td>\n",
       "      <td>15008 - PRESTAÇÃO DE SERVIÇOS DE MOTORISTA</td>\n",
       "      <td>PRESTAÇÃO DE SERVIÇOS DE MOTORISTA</td>\n",
       "      <td>0.0</td>\n",
       "      <td>8.64</td>\n",
       "      <td>0.00</td>\n",
       "    </tr>\n",
       "    <tr>\n",
       "      <th>64963</th>\n",
       "      <td>852108</td>\n",
       "      <td>135930</td>\n",
       "      <td>Serviço</td>\n",
       "      <td>GRUPO GENERICO SERVICO</td>\n",
       "      <td>15008 - PRESTAÇÃO DE SERVIÇOS DE MOTORISTA</td>\n",
       "      <td>PRESTAÇÃO DE SERVIÇOS DE MOTORISTA</td>\n",
       "      <td>1.0</td>\n",
       "      <td>10904.62</td>\n",
       "      <td>130855.44</td>\n",
       "    </tr>\n",
       "  </tbody>\n",
       "</table>\n",
       "<p>359 rows × 9 columns</p>\n",
       "</div>"
      ],
      "text/plain": [
       "           id  contrato_id  tipo_id                grupo_id  \\\n",
       "160    853146       136099  Serviço  GRUPO GENERICO SERVICO   \n",
       "298    830370       132157  Serviço  GRUPO GENERICO SERVICO   \n",
       "1764   790582       124166  Serviço  GRUPO GENERICO SERVICO   \n",
       "1876   839793       133974  Serviço  GRUPO GENERICO SERVICO   \n",
       "1949   839795       133974  Serviço  GRUPO GENERICO SERVICO   \n",
       "...       ...          ...      ...                     ...   \n",
       "63993  851040       135721  Serviço  GRUPO GENERICO SERVICO   \n",
       "64389  851465       106566  Serviço  GRUPO GENERICO SERVICO   \n",
       "64756  851883       135400  Serviço  GRUPO GENERICO SERVICO   \n",
       "64959  852211       135963  Serviço  GRUPO GENERICO SERVICO   \n",
       "64963  852108       135930  Serviço  GRUPO GENERICO SERVICO   \n",
       "\n",
       "                                 catmatseritem_id  \\\n",
       "160    15008 - PRESTAÇÃO DE SERVIÇOS DE MOTORISTA   \n",
       "298    15008 - PRESTAÇÃO DE SERVIÇOS DE MOTORISTA   \n",
       "1764   15008 - PRESTAÇÃO DE SERVIÇOS DE MOTORISTA   \n",
       "1876   15008 - PRESTAÇÃO DE SERVIÇOS DE MOTORISTA   \n",
       "1949   15008 - PRESTAÇÃO DE SERVIÇOS DE MOTORISTA   \n",
       "...                                           ...   \n",
       "63993  15008 - PRESTAÇÃO DE SERVIÇOS DE MOTORISTA   \n",
       "64389  15008 - PRESTAÇÃO DE SERVIÇOS DE MOTORISTA   \n",
       "64756  15008 - PRESTAÇÃO DE SERVIÇOS DE MOTORISTA   \n",
       "64959  15008 - PRESTAÇÃO DE SERVIÇOS DE MOTORISTA   \n",
       "64963  15008 - PRESTAÇÃO DE SERVIÇOS DE MOTORISTA   \n",
       "\n",
       "                   descricao_complementar  quantidade  valorunitario  \\\n",
       "160    PRESTAÇÃO DE SERVIÇOS DE MOTORISTA         1.0        5760.72   \n",
       "298    PRESTAÇÃO DE SERVIÇOS DE MOTORISTA         1.0        4246.63   \n",
       "1764   PRESTAÇÃO DE SERVIÇOS DE MOTORISTA         3.0        7945.69   \n",
       "1876   PRESTAÇÃO DE SERVIÇOS DE MOTORISTA         1.0       58362.12   \n",
       "1949   PRESTAÇÃO DE SERVIÇOS DE MOTORISTA         1.0       52441.32   \n",
       "...                                   ...         ...            ...   \n",
       "63993  PRESTAÇÃO DE SERVIÇOS DE MOTORISTA         3.0       43822.93   \n",
       "64389  PRESTAÇÃO DE SERVIÇOS DE MOTORISTA         4.0       24758.94   \n",
       "64756  PRESTAÇÃO DE SERVIÇOS DE MOTORISTA         1.0        3372.60   \n",
       "64959  PRESTAÇÃO DE SERVIÇOS DE MOTORISTA         0.0           8.64   \n",
       "64963  PRESTAÇÃO DE SERVIÇOS DE MOTORISTA         1.0       10904.62   \n",
       "\n",
       "       valortotal  \n",
       "160      69128.64  \n",
       "298      50959.56  \n",
       "1764    286044.84  \n",
       "1876     58362.12  \n",
       "1949     52441.32  \n",
       "...           ...  \n",
       "63993   131468.79  \n",
       "64389    99035.76  \n",
       "64756    40471.20  \n",
       "64959        0.00  \n",
       "64963   130855.44  \n",
       "\n",
       "[359 rows x 9 columns]"
      ]
     },
     "execution_count": 13,
     "metadata": {},
     "output_type": "execute_result"
    }
   ],
   "source": [
    "itens_df[itens_df.descricao_complementar == 'PRESTAÇÃO DE SERVIÇOS DE MOTORISTA']"
   ]
  },
  {
   "cell_type": "code",
   "execution_count": 15,
   "id": "4bc3029a-cca3-4308-be99-4dea5ac2a322",
   "metadata": {},
   "outputs": [],
   "source": [
    "contratos_dez2021 = pd.read_csv('http://repositorio.dados.gov.br/seges/comprasnet_contratos/mensal/2021/12/comprasnet-contratos-mensal-contratos-2021-12.csv')"
   ]
  },
  {
   "cell_type": "code",
   "execution_count": 16,
   "id": "50811c4a-e7b9-406b-82e7-d73090db8878",
   "metadata": {},
   "outputs": [
    {
     "data": {
      "text/plain": [
       "Index(['id', 'receita_despesa', 'numero', 'orgao_codigo', 'orgao_nome',\n",
       "       'unidade_codigo', 'unidade_nome_resumido', 'unidade_nome',\n",
       "       'fornecedor_tipo', 'fonecedor_cnpj_cpf_idgener', 'fornecedor_nome',\n",
       "       'codigo_tipo', 'tipo', 'categoria', 'processo', 'objeto',\n",
       "       'fundamento_legal', 'informacao_complementar', 'codigo_modalidade',\n",
       "       'modalidade', 'unidade_compra', 'licitacao_numero', 'data_assinatura',\n",
       "       'data_publicacao', 'vigencia_inicio', 'vigencia_fim', 'valor_inicial',\n",
       "       'valor_global', 'num_parcelas', 'valor_parcela', 'valor_acumulado'],\n",
       "      dtype='object')"
      ]
     },
     "execution_count": 16,
     "metadata": {},
     "output_type": "execute_result"
    }
   ],
   "source": [
    "contratos_dez2021.columns"
   ]
  },
  {
   "cell_type": "code",
   "execution_count": 17,
   "id": "99870d07-625d-4e5c-814c-0d234d8b033c",
   "metadata": {},
   "outputs": [],
   "source": [
    "itens_dez2021 = pd.read_csv('http://repositorio.dados.gov.br/seges/comprasnet_contratos/mensal/2021/12/comprasnet-contratos-mensal-itens-2021-12.csv')"
   ]
  },
  {
   "cell_type": "code",
   "execution_count": 22,
   "id": "2497d66a-7864-4bd2-8595-3d24355b1223",
   "metadata": {},
   "outputs": [
    {
     "data": {
      "text/html": [
       "<div>\n",
       "<style scoped>\n",
       "    .dataframe tbody tr th:only-of-type {\n",
       "        vertical-align: middle;\n",
       "    }\n",
       "\n",
       "    .dataframe tbody tr th {\n",
       "        vertical-align: top;\n",
       "    }\n",
       "\n",
       "    .dataframe thead th {\n",
       "        text-align: right;\n",
       "    }\n",
       "</style>\n",
       "<table border=\"1\" class=\"dataframe\">\n",
       "  <thead>\n",
       "    <tr style=\"text-align: right;\">\n",
       "      <th></th>\n",
       "      <th>id</th>\n",
       "      <th>contrato_id</th>\n",
       "      <th>tipo_id</th>\n",
       "      <th>grupo_id</th>\n",
       "      <th>catmatseritem_id</th>\n",
       "      <th>descricao_complementar</th>\n",
       "      <th>quantidade</th>\n",
       "      <th>valorunitario</th>\n",
       "      <th>valortotal</th>\n",
       "    </tr>\n",
       "  </thead>\n",
       "  <tbody>\n",
       "    <tr>\n",
       "      <th>147</th>\n",
       "      <td>784308</td>\n",
       "      <td>125937</td>\n",
       "      <td>Serviço</td>\n",
       "      <td>GRUPO GENERICO SERVICO</td>\n",
       "      <td>15008 - PRESTAÇÃO DE SERVIÇOS DE MOTORISTA</td>\n",
       "      <td>PRESTAÇÃO DE SERVIÇOS DE MOTORISTA</td>\n",
       "      <td>12.000</td>\n",
       "      <td>59969.43</td>\n",
       "      <td>719633.16</td>\n",
       "    </tr>\n",
       "    <tr>\n",
       "      <th>414</th>\n",
       "      <td>784319</td>\n",
       "      <td>125939</td>\n",
       "      <td>Serviço</td>\n",
       "      <td>GRUPO GENERICO SERVICO</td>\n",
       "      <td>15008 - PRESTAÇÃO DE SERVIÇOS DE MOTORISTA</td>\n",
       "      <td>PRESTAÇÃO DE SERVIÇOS DE MOTORISTA</td>\n",
       "      <td>127.005</td>\n",
       "      <td>4956.08</td>\n",
       "      <td>629446.50</td>\n",
       "    </tr>\n",
       "    <tr>\n",
       "      <th>417</th>\n",
       "      <td>784320</td>\n",
       "      <td>125939</td>\n",
       "      <td>Serviço</td>\n",
       "      <td>GRUPO GENERICO SERVICO</td>\n",
       "      <td>15008 - PRESTAÇÃO DE SERVIÇOS DE MOTORISTA</td>\n",
       "      <td>PRESTAÇÃO DE SERVIÇOS DE MOTORISTA</td>\n",
       "      <td>41.000</td>\n",
       "      <td>4363.49</td>\n",
       "      <td>178903.20</td>\n",
       "    </tr>\n",
       "    <tr>\n",
       "      <th>470</th>\n",
       "      <td>784321</td>\n",
       "      <td>125939</td>\n",
       "      <td>Serviço</td>\n",
       "      <td>GRUPO GENERICO SERVICO</td>\n",
       "      <td>15008 - PRESTAÇÃO DE SERVIÇOS DE MOTORISTA</td>\n",
       "      <td>PRESTAÇÃO DE SERVIÇOS DE MOTORISTA</td>\n",
       "      <td>2400.000</td>\n",
       "      <td>47.35</td>\n",
       "      <td>113640.00</td>\n",
       "    </tr>\n",
       "    <tr>\n",
       "      <th>513</th>\n",
       "      <td>784642</td>\n",
       "      <td>122122</td>\n",
       "      <td>Serviço</td>\n",
       "      <td>GRUPO GENERICO SERVICO</td>\n",
       "      <td>15008 - PRESTAÇÃO DE SERVIÇOS DE MOTORISTA</td>\n",
       "      <td>PRESTAÇÃO DE SERVIÇOS DE MOTORISTA</td>\n",
       "      <td>12.000</td>\n",
       "      <td>7495.75</td>\n",
       "      <td>89949.00</td>\n",
       "    </tr>\n",
       "    <tr>\n",
       "      <th>...</th>\n",
       "      <td>...</td>\n",
       "      <td>...</td>\n",
       "      <td>...</td>\n",
       "      <td>...</td>\n",
       "      <td>...</td>\n",
       "      <td>...</td>\n",
       "      <td>...</td>\n",
       "      <td>...</td>\n",
       "      <td>...</td>\n",
       "    </tr>\n",
       "    <tr>\n",
       "      <th>51159</th>\n",
       "      <td>804835</td>\n",
       "      <td>129226</td>\n",
       "      <td>Serviço</td>\n",
       "      <td>GRUPO GENERICO SERVICO</td>\n",
       "      <td>15008 - PRESTAÇÃO DE SERVIÇOS DE MOTORISTA</td>\n",
       "      <td>PRESTAÇÃO DE SERVIÇOS DE MOTORISTA</td>\n",
       "      <td>1.000</td>\n",
       "      <td>99988.56</td>\n",
       "      <td>99988.56</td>\n",
       "    </tr>\n",
       "    <tr>\n",
       "      <th>51274</th>\n",
       "      <td>804816</td>\n",
       "      <td>129223</td>\n",
       "      <td>Serviço</td>\n",
       "      <td>GRUPO GENERICO SERVICO</td>\n",
       "      <td>15008 - PRESTAÇÃO DE SERVIÇOS DE MOTORISTA</td>\n",
       "      <td>PRESTAÇÃO DE SERVIÇOS DE MOTORISTA</td>\n",
       "      <td>2.000</td>\n",
       "      <td>59700.00</td>\n",
       "      <td>119400.00</td>\n",
       "    </tr>\n",
       "    <tr>\n",
       "      <th>51542</th>\n",
       "      <td>805402</td>\n",
       "      <td>129335</td>\n",
       "      <td>Serviço</td>\n",
       "      <td>GRUPO GENERICO SERVICO</td>\n",
       "      <td>15008 - PRESTAÇÃO DE SERVIÇOS DE MOTORISTA</td>\n",
       "      <td>PRESTAÇÃO DE SERVIÇOS DE MOTORISTA</td>\n",
       "      <td>3.000</td>\n",
       "      <td>60999.96</td>\n",
       "      <td>182999.88</td>\n",
       "    </tr>\n",
       "    <tr>\n",
       "      <th>52708</th>\n",
       "      <td>783889</td>\n",
       "      <td>125804</td>\n",
       "      <td>Serviço</td>\n",
       "      <td>GRUPO GENERICO SERVICO</td>\n",
       "      <td>15008 - PRESTAÇÃO DE SERVIÇOS DE MOTORISTA</td>\n",
       "      <td>PRESTAÇÃO DE SERVIÇOS DE MOTORISTA</td>\n",
       "      <td>4.000</td>\n",
       "      <td>5104.17</td>\n",
       "      <td>245000.00</td>\n",
       "    </tr>\n",
       "    <tr>\n",
       "      <th>52950</th>\n",
       "      <td>784097</td>\n",
       "      <td>125433</td>\n",
       "      <td>Serviço</td>\n",
       "      <td>GRUPO GENERICO SERVICO</td>\n",
       "      <td>15008 - PRESTAÇÃO DE SERVIÇOS DE MOTORISTA</td>\n",
       "      <td>PRESTAÇÃO DE SERVIÇOS DE MOTORISTA</td>\n",
       "      <td>1.000</td>\n",
       "      <td>5002.49</td>\n",
       "      <td>30014.94</td>\n",
       "    </tr>\n",
       "  </tbody>\n",
       "</table>\n",
       "<p>182 rows × 9 columns</p>\n",
       "</div>"
      ],
      "text/plain": [
       "           id  contrato_id  tipo_id                grupo_id  \\\n",
       "147    784308       125937  Serviço  GRUPO GENERICO SERVICO   \n",
       "414    784319       125939  Serviço  GRUPO GENERICO SERVICO   \n",
       "417    784320       125939  Serviço  GRUPO GENERICO SERVICO   \n",
       "470    784321       125939  Serviço  GRUPO GENERICO SERVICO   \n",
       "513    784642       122122  Serviço  GRUPO GENERICO SERVICO   \n",
       "...       ...          ...      ...                     ...   \n",
       "51159  804835       129226  Serviço  GRUPO GENERICO SERVICO   \n",
       "51274  804816       129223  Serviço  GRUPO GENERICO SERVICO   \n",
       "51542  805402       129335  Serviço  GRUPO GENERICO SERVICO   \n",
       "52708  783889       125804  Serviço  GRUPO GENERICO SERVICO   \n",
       "52950  784097       125433  Serviço  GRUPO GENERICO SERVICO   \n",
       "\n",
       "                                 catmatseritem_id  \\\n",
       "147    15008 - PRESTAÇÃO DE SERVIÇOS DE MOTORISTA   \n",
       "414    15008 - PRESTAÇÃO DE SERVIÇOS DE MOTORISTA   \n",
       "417    15008 - PRESTAÇÃO DE SERVIÇOS DE MOTORISTA   \n",
       "470    15008 - PRESTAÇÃO DE SERVIÇOS DE MOTORISTA   \n",
       "513    15008 - PRESTAÇÃO DE SERVIÇOS DE MOTORISTA   \n",
       "...                                           ...   \n",
       "51159  15008 - PRESTAÇÃO DE SERVIÇOS DE MOTORISTA   \n",
       "51274  15008 - PRESTAÇÃO DE SERVIÇOS DE MOTORISTA   \n",
       "51542  15008 - PRESTAÇÃO DE SERVIÇOS DE MOTORISTA   \n",
       "52708  15008 - PRESTAÇÃO DE SERVIÇOS DE MOTORISTA   \n",
       "52950  15008 - PRESTAÇÃO DE SERVIÇOS DE MOTORISTA   \n",
       "\n",
       "                   descricao_complementar  quantidade  valorunitario  \\\n",
       "147    PRESTAÇÃO DE SERVIÇOS DE MOTORISTA      12.000       59969.43   \n",
       "414    PRESTAÇÃO DE SERVIÇOS DE MOTORISTA     127.005        4956.08   \n",
       "417    PRESTAÇÃO DE SERVIÇOS DE MOTORISTA      41.000        4363.49   \n",
       "470    PRESTAÇÃO DE SERVIÇOS DE MOTORISTA    2400.000          47.35   \n",
       "513    PRESTAÇÃO DE SERVIÇOS DE MOTORISTA      12.000        7495.75   \n",
       "...                                   ...         ...            ...   \n",
       "51159  PRESTAÇÃO DE SERVIÇOS DE MOTORISTA       1.000       99988.56   \n",
       "51274  PRESTAÇÃO DE SERVIÇOS DE MOTORISTA       2.000       59700.00   \n",
       "51542  PRESTAÇÃO DE SERVIÇOS DE MOTORISTA       3.000       60999.96   \n",
       "52708  PRESTAÇÃO DE SERVIÇOS DE MOTORISTA       4.000        5104.17   \n",
       "52950  PRESTAÇÃO DE SERVIÇOS DE MOTORISTA       1.000        5002.49   \n",
       "\n",
       "       valortotal  \n",
       "147     719633.16  \n",
       "414     629446.50  \n",
       "417     178903.20  \n",
       "470     113640.00  \n",
       "513      89949.00  \n",
       "...           ...  \n",
       "51159    99988.56  \n",
       "51274   119400.00  \n",
       "51542   182999.88  \n",
       "52708   245000.00  \n",
       "52950    30014.94  \n",
       "\n",
       "[182 rows x 9 columns]"
      ]
     },
     "execution_count": 22,
     "metadata": {},
     "output_type": "execute_result"
    }
   ],
   "source": [
    "itens_motorista = itens_dez2021[itens_dez2021.descricao_complementar == 'PRESTAÇÃO DE SERVIÇOS DE MOTORISTA']\n",
    "itens_motorista"
   ]
  },
  {
   "cell_type": "code",
   "execution_count": 43,
   "id": "99bd3fa0-1823-40cf-be34-7222df11156d",
   "metadata": {},
   "outputs": [
    {
     "data": {
      "text/html": [
       "<div>\n",
       "<style scoped>\n",
       "    .dataframe tbody tr th:only-of-type {\n",
       "        vertical-align: middle;\n",
       "    }\n",
       "\n",
       "    .dataframe tbody tr th {\n",
       "        vertical-align: top;\n",
       "    }\n",
       "\n",
       "    .dataframe thead th {\n",
       "        text-align: right;\n",
       "    }\n",
       "</style>\n",
       "<table border=\"1\" class=\"dataframe\">\n",
       "  <thead>\n",
       "    <tr style=\"text-align: right;\">\n",
       "      <th></th>\n",
       "      <th>quantidade</th>\n",
       "      <th>valorunitario</th>\n",
       "      <th>valortotal</th>\n",
       "    </tr>\n",
       "    <tr>\n",
       "      <th>orgao_nome</th>\n",
       "      <th></th>\n",
       "      <th></th>\n",
       "      <th></th>\n",
       "    </tr>\n",
       "  </thead>\n",
       "  <tbody>\n",
       "    <tr>\n",
       "      <th>JUSTICA DO DISTRITO FEDERAL E DOS TERRITORIOS</th>\n",
       "      <td>1.000</td>\n",
       "      <td>10097339.88</td>\n",
       "      <td>10097339.88</td>\n",
       "    </tr>\n",
       "    <tr>\n",
       "      <th>MINISTERIO DA SAUDE</th>\n",
       "      <td>949.000</td>\n",
       "      <td>3613786.72</td>\n",
       "      <td>7685432.02</td>\n",
       "    </tr>\n",
       "    <tr>\n",
       "      <th>MINISTERIO DA ECONOMIA</th>\n",
       "      <td>10252.005</td>\n",
       "      <td>1881099.70</td>\n",
       "      <td>5557958.20</td>\n",
       "    </tr>\n",
       "    <tr>\n",
       "      <th>UNIVERSIDADE FED.VALES JEQUITINHONHA E MUCURI</th>\n",
       "      <td>25.000</td>\n",
       "      <td>91063.12</td>\n",
       "      <td>3990268.56</td>\n",
       "    </tr>\n",
       "    <tr>\n",
       "      <th>FUNDACAO UNIVERSIDADE FEDERAL DE UBERLANDIA</th>\n",
       "      <td>1.000</td>\n",
       "      <td>204750.73</td>\n",
       "      <td>2457008.76</td>\n",
       "    </tr>\n",
       "    <tr>\n",
       "      <th>FUNDACAO NACIONAL DO INDIO</th>\n",
       "      <td>3082.000</td>\n",
       "      <td>238837.52</td>\n",
       "      <td>1924501.88</td>\n",
       "    </tr>\n",
       "    <tr>\n",
       "      <th>JUSTICA ELEITORAL</th>\n",
       "      <td>84.000</td>\n",
       "      <td>25196.32</td>\n",
       "      <td>1273275.12</td>\n",
       "    </tr>\n",
       "    <tr>\n",
       "      <th>INST.CHICO MENDES DE CONSER.DA BIODIVERSIDADE</th>\n",
       "      <td>14.000</td>\n",
       "      <td>68877.00</td>\n",
       "      <td>826524.00</td>\n",
       "    </tr>\n",
       "    <tr>\n",
       "      <th>EMPRESA BRASIL DE COMUNICACAO S.A.-EBC</th>\n",
       "      <td>12.000</td>\n",
       "      <td>59969.43</td>\n",
       "      <td>719633.16</td>\n",
       "    </tr>\n",
       "    <tr>\n",
       "      <th>EMPRESA BRASILEIRA DE SERVICOS HOSPITALARES</th>\n",
       "      <td>1.000</td>\n",
       "      <td>51421.96</td>\n",
       "      <td>617063.52</td>\n",
       "    </tr>\n",
       "    <tr>\n",
       "      <th>UNIVERSIDADE FEDERAL DO RIO DE JANEIRO</th>\n",
       "      <td>113.000</td>\n",
       "      <td>17476.22</td>\n",
       "      <td>467547.12</td>\n",
       "    </tr>\n",
       "    <tr>\n",
       "      <th>INST.FED.DE EDUC.,CIENC.E TEC.DO AMAZONAS</th>\n",
       "      <td>7.000</td>\n",
       "      <td>64759.05</td>\n",
       "      <td>423964.64</td>\n",
       "    </tr>\n",
       "    <tr>\n",
       "      <th>AGENCIA NACIONAL DE ENERGIA ELETRICA</th>\n",
       "      <td>1.000</td>\n",
       "      <td>370986.96</td>\n",
       "      <td>370986.96</td>\n",
       "    </tr>\n",
       "    <tr>\n",
       "      <th>FUNDACAO OSWALDO CRUZ</th>\n",
       "      <td>1.000</td>\n",
       "      <td>361681.50</td>\n",
       "      <td>361681.50</td>\n",
       "    </tr>\n",
       "    <tr>\n",
       "      <th>INSTITUTO NACIONAL DO SEGURO SOCIAL</th>\n",
       "      <td>12.000</td>\n",
       "      <td>27069.95</td>\n",
       "      <td>324839.40</td>\n",
       "    </tr>\n",
       "    <tr>\n",
       "      <th>INSTITUTO DO PATRIMONIO HIST. E ART. NACIONAL</th>\n",
       "      <td>25.000</td>\n",
       "      <td>133460.96</td>\n",
       "      <td>301648.56</td>\n",
       "    </tr>\n",
       "    <tr>\n",
       "      <th>INST.FED.DE EDUC.,CIENC.E TEC.GOIANO</th>\n",
       "      <td>3.000</td>\n",
       "      <td>7111.19</td>\n",
       "      <td>256002.84</td>\n",
       "    </tr>\n",
       "    <tr>\n",
       "      <th>UNIVERSIDADE TECNOLOGICA FEDERAL DO PARANA</th>\n",
       "      <td>5.000</td>\n",
       "      <td>16171.82</td>\n",
       "      <td>236136.31</td>\n",
       "    </tr>\n",
       "    <tr>\n",
       "      <th>INST.FED.DE EDUC.,CIENC.E TEC.DE ALAGOAS</th>\n",
       "      <td>4.000</td>\n",
       "      <td>58947.84</td>\n",
       "      <td>235791.36</td>\n",
       "    </tr>\n",
       "    <tr>\n",
       "      <th>COMPANHIA DE PESQUISA DE RECURSOS MINERAIS</th>\n",
       "      <td>3.000</td>\n",
       "      <td>5606.91</td>\n",
       "      <td>201848.76</td>\n",
       "    </tr>\n",
       "  </tbody>\n",
       "</table>\n",
       "</div>"
      ],
      "text/plain": [
       "                                               quantidade  valorunitario  \\\n",
       "orgao_nome                                                                 \n",
       "JUSTICA DO DISTRITO FEDERAL E DOS TERRITORIOS       1.000    10097339.88   \n",
       "MINISTERIO DA SAUDE                               949.000     3613786.72   \n",
       "MINISTERIO DA ECONOMIA                          10252.005     1881099.70   \n",
       "UNIVERSIDADE FED.VALES JEQUITINHONHA E MUCURI      25.000       91063.12   \n",
       "FUNDACAO UNIVERSIDADE FEDERAL DE UBERLANDIA         1.000      204750.73   \n",
       "FUNDACAO NACIONAL DO INDIO                       3082.000      238837.52   \n",
       "JUSTICA ELEITORAL                                  84.000       25196.32   \n",
       "INST.CHICO MENDES DE CONSER.DA BIODIVERSIDADE      14.000       68877.00   \n",
       "EMPRESA BRASIL DE COMUNICACAO S.A.-EBC             12.000       59969.43   \n",
       "EMPRESA BRASILEIRA DE SERVICOS HOSPITALARES         1.000       51421.96   \n",
       "UNIVERSIDADE FEDERAL DO RIO DE JANEIRO            113.000       17476.22   \n",
       "INST.FED.DE EDUC.,CIENC.E TEC.DO AMAZONAS           7.000       64759.05   \n",
       "AGENCIA NACIONAL DE ENERGIA ELETRICA                1.000      370986.96   \n",
       "FUNDACAO OSWALDO CRUZ                               1.000      361681.50   \n",
       "INSTITUTO NACIONAL DO SEGURO SOCIAL                12.000       27069.95   \n",
       "INSTITUTO DO PATRIMONIO HIST. E ART. NACIONAL      25.000      133460.96   \n",
       "INST.FED.DE EDUC.,CIENC.E TEC.GOIANO                3.000        7111.19   \n",
       "UNIVERSIDADE TECNOLOGICA FEDERAL DO PARANA          5.000       16171.82   \n",
       "INST.FED.DE EDUC.,CIENC.E TEC.DE ALAGOAS            4.000       58947.84   \n",
       "COMPANHIA DE PESQUISA DE RECURSOS MINERAIS          3.000        5606.91   \n",
       "\n",
       "                                                valortotal  \n",
       "orgao_nome                                                  \n",
       "JUSTICA DO DISTRITO FEDERAL E DOS TERRITORIOS  10097339.88  \n",
       "MINISTERIO DA SAUDE                             7685432.02  \n",
       "MINISTERIO DA ECONOMIA                          5557958.20  \n",
       "UNIVERSIDADE FED.VALES JEQUITINHONHA E MUCURI   3990268.56  \n",
       "FUNDACAO UNIVERSIDADE FEDERAL DE UBERLANDIA     2457008.76  \n",
       "FUNDACAO NACIONAL DO INDIO                      1924501.88  \n",
       "JUSTICA ELEITORAL                               1273275.12  \n",
       "INST.CHICO MENDES DE CONSER.DA BIODIVERSIDADE    826524.00  \n",
       "EMPRESA BRASIL DE COMUNICACAO S.A.-EBC           719633.16  \n",
       "EMPRESA BRASILEIRA DE SERVICOS HOSPITALARES      617063.52  \n",
       "UNIVERSIDADE FEDERAL DO RIO DE JANEIRO           467547.12  \n",
       "INST.FED.DE EDUC.,CIENC.E TEC.DO AMAZONAS        423964.64  \n",
       "AGENCIA NACIONAL DE ENERGIA ELETRICA             370986.96  \n",
       "FUNDACAO OSWALDO CRUZ                            361681.50  \n",
       "INSTITUTO NACIONAL DO SEGURO SOCIAL              324839.40  \n",
       "INSTITUTO DO PATRIMONIO HIST. E ART. NACIONAL    301648.56  \n",
       "INST.FED.DE EDUC.,CIENC.E TEC.GOIANO             256002.84  \n",
       "UNIVERSIDADE TECNOLOGICA FEDERAL DO PARANA       236136.31  \n",
       "INST.FED.DE EDUC.,CIENC.E TEC.DE ALAGOAS         235791.36  \n",
       "COMPANHIA DE PESQUISA DE RECURSOS MINERAIS       201848.76  "
      ]
     },
     "execution_count": 43,
     "metadata": {},
     "output_type": "execute_result"
    }
   ],
   "source": [
    "maiores_contratos_motorista = (\n",
    "    itens_motorista\n",
    "    .merge(\n",
    "        contratos_dez2021, \n",
    "        left_on=itens_motorista.contrato_id,\n",
    "        right_on=contratos_dez2021.id)\n",
    "    .loc[:,['orgao_nome', 'quantidade', 'valorunitario', 'valortotal']]\n",
    "    .groupby('orgao_nome').sum()\n",
    "    .sort_values('valortotal', ascending=False)\n",
    "    .head(20)\n",
    ")\n",
    "maiores_contratos_motorista"
   ]
  },
  {
   "cell_type": "code",
   "execution_count": 49,
   "id": "218c71e6-9706-42f5-ab28-6083d3721c1e",
   "metadata": {},
   "outputs": [
    {
     "data": {
      "application/vnd.plotly.v1+json": {
       "config": {
        "plotlyServerURL": "https://plot.ly"
       },
       "data": [
        {
         "alignmentgroup": "True",
         "hovertemplate": "valortotal=%{x}<br>orgao_nome=%{y}<extra></extra>",
         "legendgroup": "",
         "marker": {
          "color": "#636efa",
          "pattern": {
           "shape": ""
          }
         },
         "name": "",
         "offsetgroup": "",
         "orientation": "h",
         "showlegend": false,
         "textposition": "auto",
         "type": "bar",
         "x": [
          10097339.88,
          7685432.0200000005,
          5557958.2,
          3990268.56,
          2457008.76,
          1924501.88,
          1273275.12,
          826524,
          719633.16,
          617063.52,
          467547.12,
          423964.64,
          370986.96,
          361681.5,
          324839.4,
          301648.56,
          256002.84,
          236136.31,
          235791.36,
          201848.76
         ],
         "xaxis": "x",
         "y": [
          "JUSTICA DO DISTRITO FEDERAL E DOS TERRITORIOS",
          "MINISTERIO DA SAUDE",
          "MINISTERIO DA ECONOMIA",
          "UNIVERSIDADE FED.VALES JEQUITINHONHA E MUCURI",
          "FUNDACAO UNIVERSIDADE FEDERAL DE UBERLANDIA",
          "FUNDACAO NACIONAL DO INDIO",
          "JUSTICA ELEITORAL",
          "INST.CHICO MENDES DE CONSER.DA BIODIVERSIDADE",
          "EMPRESA BRASIL DE COMUNICACAO S.A.-EBC",
          "EMPRESA BRASILEIRA DE SERVICOS HOSPITALARES",
          "UNIVERSIDADE FEDERAL DO RIO DE JANEIRO",
          "INST.FED.DE EDUC.,CIENC.E TEC.DO AMAZONAS",
          "AGENCIA NACIONAL DE ENERGIA ELETRICA",
          "FUNDACAO OSWALDO CRUZ",
          "INSTITUTO NACIONAL DO SEGURO SOCIAL",
          "INSTITUTO DO PATRIMONIO HIST. E ART. NACIONAL",
          "INST.FED.DE EDUC.,CIENC.E TEC.GOIANO",
          "UNIVERSIDADE TECNOLOGICA FEDERAL DO PARANA",
          "INST.FED.DE EDUC.,CIENC.E TEC.DE ALAGOAS",
          "COMPANHIA DE PESQUISA DE RECURSOS MINERAIS"
         ],
         "yaxis": "y"
        }
       ],
       "layout": {
        "autosize": true,
        "barmode": "relative",
        "legend": {
         "tracegroupgap": 0
        },
        "template": {
         "data": {
          "bar": [
           {
            "error_x": {
             "color": "#2a3f5f"
            },
            "error_y": {
             "color": "#2a3f5f"
            },
            "marker": {
             "line": {
              "color": "#E5ECF6",
              "width": 0.5
             },
             "pattern": {
              "fillmode": "overlay",
              "size": 10,
              "solidity": 0.2
             }
            },
            "type": "bar"
           }
          ],
          "barpolar": [
           {
            "marker": {
             "line": {
              "color": "#E5ECF6",
              "width": 0.5
             },
             "pattern": {
              "fillmode": "overlay",
              "size": 10,
              "solidity": 0.2
             }
            },
            "type": "barpolar"
           }
          ],
          "carpet": [
           {
            "aaxis": {
             "endlinecolor": "#2a3f5f",
             "gridcolor": "white",
             "linecolor": "white",
             "minorgridcolor": "white",
             "startlinecolor": "#2a3f5f"
            },
            "baxis": {
             "endlinecolor": "#2a3f5f",
             "gridcolor": "white",
             "linecolor": "white",
             "minorgridcolor": "white",
             "startlinecolor": "#2a3f5f"
            },
            "type": "carpet"
           }
          ],
          "choropleth": [
           {
            "colorbar": {
             "outlinewidth": 0,
             "ticks": ""
            },
            "type": "choropleth"
           }
          ],
          "contour": [
           {
            "colorbar": {
             "outlinewidth": 0,
             "ticks": ""
            },
            "colorscale": [
             [
              0,
              "#0d0887"
             ],
             [
              0.1111111111111111,
              "#46039f"
             ],
             [
              0.2222222222222222,
              "#7201a8"
             ],
             [
              0.3333333333333333,
              "#9c179e"
             ],
             [
              0.4444444444444444,
              "#bd3786"
             ],
             [
              0.5555555555555556,
              "#d8576b"
             ],
             [
              0.6666666666666666,
              "#ed7953"
             ],
             [
              0.7777777777777778,
              "#fb9f3a"
             ],
             [
              0.8888888888888888,
              "#fdca26"
             ],
             [
              1,
              "#f0f921"
             ]
            ],
            "type": "contour"
           }
          ],
          "contourcarpet": [
           {
            "colorbar": {
             "outlinewidth": 0,
             "ticks": ""
            },
            "type": "contourcarpet"
           }
          ],
          "heatmap": [
           {
            "colorbar": {
             "outlinewidth": 0,
             "ticks": ""
            },
            "colorscale": [
             [
              0,
              "#0d0887"
             ],
             [
              0.1111111111111111,
              "#46039f"
             ],
             [
              0.2222222222222222,
              "#7201a8"
             ],
             [
              0.3333333333333333,
              "#9c179e"
             ],
             [
              0.4444444444444444,
              "#bd3786"
             ],
             [
              0.5555555555555556,
              "#d8576b"
             ],
             [
              0.6666666666666666,
              "#ed7953"
             ],
             [
              0.7777777777777778,
              "#fb9f3a"
             ],
             [
              0.8888888888888888,
              "#fdca26"
             ],
             [
              1,
              "#f0f921"
             ]
            ],
            "type": "heatmap"
           }
          ],
          "heatmapgl": [
           {
            "colorbar": {
             "outlinewidth": 0,
             "ticks": ""
            },
            "colorscale": [
             [
              0,
              "#0d0887"
             ],
             [
              0.1111111111111111,
              "#46039f"
             ],
             [
              0.2222222222222222,
              "#7201a8"
             ],
             [
              0.3333333333333333,
              "#9c179e"
             ],
             [
              0.4444444444444444,
              "#bd3786"
             ],
             [
              0.5555555555555556,
              "#d8576b"
             ],
             [
              0.6666666666666666,
              "#ed7953"
             ],
             [
              0.7777777777777778,
              "#fb9f3a"
             ],
             [
              0.8888888888888888,
              "#fdca26"
             ],
             [
              1,
              "#f0f921"
             ]
            ],
            "type": "heatmapgl"
           }
          ],
          "histogram": [
           {
            "marker": {
             "pattern": {
              "fillmode": "overlay",
              "size": 10,
              "solidity": 0.2
             }
            },
            "type": "histogram"
           }
          ],
          "histogram2d": [
           {
            "colorbar": {
             "outlinewidth": 0,
             "ticks": ""
            },
            "colorscale": [
             [
              0,
              "#0d0887"
             ],
             [
              0.1111111111111111,
              "#46039f"
             ],
             [
              0.2222222222222222,
              "#7201a8"
             ],
             [
              0.3333333333333333,
              "#9c179e"
             ],
             [
              0.4444444444444444,
              "#bd3786"
             ],
             [
              0.5555555555555556,
              "#d8576b"
             ],
             [
              0.6666666666666666,
              "#ed7953"
             ],
             [
              0.7777777777777778,
              "#fb9f3a"
             ],
             [
              0.8888888888888888,
              "#fdca26"
             ],
             [
              1,
              "#f0f921"
             ]
            ],
            "type": "histogram2d"
           }
          ],
          "histogram2dcontour": [
           {
            "colorbar": {
             "outlinewidth": 0,
             "ticks": ""
            },
            "colorscale": [
             [
              0,
              "#0d0887"
             ],
             [
              0.1111111111111111,
              "#46039f"
             ],
             [
              0.2222222222222222,
              "#7201a8"
             ],
             [
              0.3333333333333333,
              "#9c179e"
             ],
             [
              0.4444444444444444,
              "#bd3786"
             ],
             [
              0.5555555555555556,
              "#d8576b"
             ],
             [
              0.6666666666666666,
              "#ed7953"
             ],
             [
              0.7777777777777778,
              "#fb9f3a"
             ],
             [
              0.8888888888888888,
              "#fdca26"
             ],
             [
              1,
              "#f0f921"
             ]
            ],
            "type": "histogram2dcontour"
           }
          ],
          "mesh3d": [
           {
            "colorbar": {
             "outlinewidth": 0,
             "ticks": ""
            },
            "type": "mesh3d"
           }
          ],
          "parcoords": [
           {
            "line": {
             "colorbar": {
              "outlinewidth": 0,
              "ticks": ""
             }
            },
            "type": "parcoords"
           }
          ],
          "pie": [
           {
            "automargin": true,
            "type": "pie"
           }
          ],
          "scatter": [
           {
            "marker": {
             "colorbar": {
              "outlinewidth": 0,
              "ticks": ""
             }
            },
            "type": "scatter"
           }
          ],
          "scatter3d": [
           {
            "line": {
             "colorbar": {
              "outlinewidth": 0,
              "ticks": ""
             }
            },
            "marker": {
             "colorbar": {
              "outlinewidth": 0,
              "ticks": ""
             }
            },
            "type": "scatter3d"
           }
          ],
          "scattercarpet": [
           {
            "marker": {
             "colorbar": {
              "outlinewidth": 0,
              "ticks": ""
             }
            },
            "type": "scattercarpet"
           }
          ],
          "scattergeo": [
           {
            "marker": {
             "colorbar": {
              "outlinewidth": 0,
              "ticks": ""
             }
            },
            "type": "scattergeo"
           }
          ],
          "scattergl": [
           {
            "marker": {
             "colorbar": {
              "outlinewidth": 0,
              "ticks": ""
             }
            },
            "type": "scattergl"
           }
          ],
          "scattermapbox": [
           {
            "marker": {
             "colorbar": {
              "outlinewidth": 0,
              "ticks": ""
             }
            },
            "type": "scattermapbox"
           }
          ],
          "scatterpolar": [
           {
            "marker": {
             "colorbar": {
              "outlinewidth": 0,
              "ticks": ""
             }
            },
            "type": "scatterpolar"
           }
          ],
          "scatterpolargl": [
           {
            "marker": {
             "colorbar": {
              "outlinewidth": 0,
              "ticks": ""
             }
            },
            "type": "scatterpolargl"
           }
          ],
          "scatterternary": [
           {
            "marker": {
             "colorbar": {
              "outlinewidth": 0,
              "ticks": ""
             }
            },
            "type": "scatterternary"
           }
          ],
          "surface": [
           {
            "colorbar": {
             "outlinewidth": 0,
             "ticks": ""
            },
            "colorscale": [
             [
              0,
              "#0d0887"
             ],
             [
              0.1111111111111111,
              "#46039f"
             ],
             [
              0.2222222222222222,
              "#7201a8"
             ],
             [
              0.3333333333333333,
              "#9c179e"
             ],
             [
              0.4444444444444444,
              "#bd3786"
             ],
             [
              0.5555555555555556,
              "#d8576b"
             ],
             [
              0.6666666666666666,
              "#ed7953"
             ],
             [
              0.7777777777777778,
              "#fb9f3a"
             ],
             [
              0.8888888888888888,
              "#fdca26"
             ],
             [
              1,
              "#f0f921"
             ]
            ],
            "type": "surface"
           }
          ],
          "table": [
           {
            "cells": {
             "fill": {
              "color": "#EBF0F8"
             },
             "line": {
              "color": "white"
             }
            },
            "header": {
             "fill": {
              "color": "#C8D4E3"
             },
             "line": {
              "color": "white"
             }
            },
            "type": "table"
           }
          ]
         },
         "layout": {
          "annotationdefaults": {
           "arrowcolor": "#2a3f5f",
           "arrowhead": 0,
           "arrowwidth": 1
          },
          "autotypenumbers": "strict",
          "coloraxis": {
           "colorbar": {
            "outlinewidth": 0,
            "ticks": ""
           }
          },
          "colorscale": {
           "diverging": [
            [
             0,
             "#8e0152"
            ],
            [
             0.1,
             "#c51b7d"
            ],
            [
             0.2,
             "#de77ae"
            ],
            [
             0.3,
             "#f1b6da"
            ],
            [
             0.4,
             "#fde0ef"
            ],
            [
             0.5,
             "#f7f7f7"
            ],
            [
             0.6,
             "#e6f5d0"
            ],
            [
             0.7,
             "#b8e186"
            ],
            [
             0.8,
             "#7fbc41"
            ],
            [
             0.9,
             "#4d9221"
            ],
            [
             1,
             "#276419"
            ]
           ],
           "sequential": [
            [
             0,
             "#0d0887"
            ],
            [
             0.1111111111111111,
             "#46039f"
            ],
            [
             0.2222222222222222,
             "#7201a8"
            ],
            [
             0.3333333333333333,
             "#9c179e"
            ],
            [
             0.4444444444444444,
             "#bd3786"
            ],
            [
             0.5555555555555556,
             "#d8576b"
            ],
            [
             0.6666666666666666,
             "#ed7953"
            ],
            [
             0.7777777777777778,
             "#fb9f3a"
            ],
            [
             0.8888888888888888,
             "#fdca26"
            ],
            [
             1,
             "#f0f921"
            ]
           ],
           "sequentialminus": [
            [
             0,
             "#0d0887"
            ],
            [
             0.1111111111111111,
             "#46039f"
            ],
            [
             0.2222222222222222,
             "#7201a8"
            ],
            [
             0.3333333333333333,
             "#9c179e"
            ],
            [
             0.4444444444444444,
             "#bd3786"
            ],
            [
             0.5555555555555556,
             "#d8576b"
            ],
            [
             0.6666666666666666,
             "#ed7953"
            ],
            [
             0.7777777777777778,
             "#fb9f3a"
            ],
            [
             0.8888888888888888,
             "#fdca26"
            ],
            [
             1,
             "#f0f921"
            ]
           ]
          },
          "colorway": [
           "#636efa",
           "#EF553B",
           "#00cc96",
           "#ab63fa",
           "#FFA15A",
           "#19d3f3",
           "#FF6692",
           "#B6E880",
           "#FF97FF",
           "#FECB52"
          ],
          "font": {
           "color": "#2a3f5f"
          },
          "geo": {
           "bgcolor": "white",
           "lakecolor": "white",
           "landcolor": "#E5ECF6",
           "showlakes": true,
           "showland": true,
           "subunitcolor": "white"
          },
          "hoverlabel": {
           "align": "left"
          },
          "hovermode": "closest",
          "mapbox": {
           "style": "light"
          },
          "paper_bgcolor": "white",
          "plot_bgcolor": "#E5ECF6",
          "polar": {
           "angularaxis": {
            "gridcolor": "white",
            "linecolor": "white",
            "ticks": ""
           },
           "bgcolor": "#E5ECF6",
           "radialaxis": {
            "gridcolor": "white",
            "linecolor": "white",
            "ticks": ""
           }
          },
          "scene": {
           "xaxis": {
            "backgroundcolor": "#E5ECF6",
            "gridcolor": "white",
            "gridwidth": 2,
            "linecolor": "white",
            "showbackground": true,
            "ticks": "",
            "zerolinecolor": "white"
           },
           "yaxis": {
            "backgroundcolor": "#E5ECF6",
            "gridcolor": "white",
            "gridwidth": 2,
            "linecolor": "white",
            "showbackground": true,
            "ticks": "",
            "zerolinecolor": "white"
           },
           "zaxis": {
            "backgroundcolor": "#E5ECF6",
            "gridcolor": "white",
            "gridwidth": 2,
            "linecolor": "white",
            "showbackground": true,
            "ticks": "",
            "zerolinecolor": "white"
           }
          },
          "shapedefaults": {
           "line": {
            "color": "#2a3f5f"
           }
          },
          "ternary": {
           "aaxis": {
            "gridcolor": "white",
            "linecolor": "white",
            "ticks": ""
           },
           "baxis": {
            "gridcolor": "white",
            "linecolor": "white",
            "ticks": ""
           },
           "bgcolor": "#E5ECF6",
           "caxis": {
            "gridcolor": "white",
            "linecolor": "white",
            "ticks": ""
           }
          },
          "title": {
           "x": 0.05
          },
          "xaxis": {
           "automargin": true,
           "gridcolor": "white",
           "linecolor": "white",
           "ticks": "",
           "title": {
            "standoff": 15
           },
           "zerolinecolor": "white",
           "zerolinewidth": 2
          },
          "yaxis": {
           "automargin": true,
           "gridcolor": "white",
           "linecolor": "white",
           "ticks": "",
           "title": {
            "standoff": 15
           },
           "zerolinecolor": "white",
           "zerolinewidth": 2
          }
         }
        },
        "title": {
         "text": "Órgãos com maiores valores de contratos de motorista"
        },
        "xaxis": {
         "anchor": "y",
         "autorange": true,
         "domain": [
          0,
          1
         ],
         "range": [
          0,
          10628778.821052633
         ],
         "title": {
          "text": "valortotal"
         },
         "type": "linear"
        },
        "yaxis": {
         "anchor": "x",
         "autorange": true,
         "domain": [
          0,
          1
         ],
         "range": [
          -0.5,
          19.5
         ],
         "title": {
          "text": "orgao_nome"
         },
         "type": "category"
        }
       }
      },
      "image/png": "[encoded data removed]",
      "text/html": [
       "<div>                            <div id=\"0268b303-c9d6-47a6-b2cb-658126fd12da\" class=\"plotly-graph-div\" style=\"height:1000px; width:100%;\"></div>            <script type=\"text/javascript\">                require([\"plotly\"], function(Plotly) {                    window.PLOTLYENV=window.PLOTLYENV || {};                                    if (document.getElementById(\"0268b303-c9d6-47a6-b2cb-658126fd12da\")) {                    Plotly.newPlot(                        \"0268b303-c9d6-47a6-b2cb-658126fd12da\",                        [{\"alignmentgroup\":\"True\",\"hovertemplate\":\"valortotal=%{x}<br>orgao_nome=%{y}<extra></extra>\",\"legendgroup\":\"\",\"marker\":{\"color\":\"#636efa\",\"pattern\":{\"shape\":\"\"}},\"name\":\"\",\"offsetgroup\":\"\",\"orientation\":\"h\",\"showlegend\":false,\"textposition\":\"auto\",\"x\":[10097339.88,7685432.0200000005,5557958.2,3990268.56,2457008.76,1924501.88,1273275.12,826524.0,719633.16,617063.52,467547.12,423964.64,370986.96,361681.5,324839.4,301648.56,256002.84,236136.31,235791.36,201848.76],\"xaxis\":\"x\",\"y\":[\"JUSTICA DO DISTRITO FEDERAL E DOS TERRITORIOS\",\"MINISTERIO DA SAUDE\",\"MINISTERIO DA ECONOMIA\",\"UNIVERSIDADE FED.VALES JEQUITINHONHA E MUCURI\",\"FUNDACAO UNIVERSIDADE FEDERAL DE UBERLANDIA\",\"FUNDACAO NACIONAL DO INDIO\",\"JUSTICA ELEITORAL\",\"INST.CHICO MENDES DE CONSER.DA BIODIVERSIDADE\",\"EMPRESA BRASIL DE COMUNICACAO S.A.-EBC\",\"EMPRESA BRASILEIRA DE SERVICOS HOSPITALARES\",\"UNIVERSIDADE FEDERAL DO RIO DE JANEIRO\",\"INST.FED.DE EDUC.,CIENC.E TEC.DO AMAZONAS\",\"AGENCIA NACIONAL DE ENERGIA ELETRICA\",\"FUNDACAO OSWALDO CRUZ\",\"INSTITUTO NACIONAL DO SEGURO SOCIAL\",\"INSTITUTO DO PATRIMONIO HIST. E ART. NACIONAL\",\"INST.FED.DE EDUC.,CIENC.E TEC.GOIANO\",\"UNIVERSIDADE TECNOLOGICA FEDERAL DO PARANA\",\"INST.FED.DE EDUC.,CIENC.E TEC.DE ALAGOAS\",\"COMPANHIA DE PESQUISA DE RECURSOS MINERAIS\"],\"yaxis\":\"y\",\"type\":\"bar\"}],                        {\"template\":{\"data\":{\"bar\":[{\"error_x\":{\"color\":\"#2a3f5f\"},\"error_y\":{\"color\":\"#2a3f5f\"},\"marker\":{\"line\":{\"color\":\"#E5ECF6\",\"width\":0.5},\"pattern\":{\"fillmode\":\"overlay\",\"size\":10,\"solidity\":0.2}},\"type\":\"bar\"}],\"barpolar\":[{\"marker\":{\"line\":{\"color\":\"#E5ECF6\",\"width\":0.5},\"pattern\":{\"fillmode\":\"overlay\",\"size\":10,\"solidity\":0.2}},\"type\":\"barpolar\"}],\"carpet\":[{\"aaxis\":{\"endlinecolor\":\"#2a3f5f\",\"gridcolor\":\"white\",\"linecolor\":\"white\",\"minorgridcolor\":\"white\",\"startlinecolor\":\"#2a3f5f\"},\"baxis\":{\"endlinecolor\":\"#2a3f5f\",\"gridcolor\":\"white\",\"linecolor\":\"white\",\"minorgridcolor\":\"white\",\"startlinecolor\":\"#2a3f5f\"},\"type\":\"carpet\"}],\"choropleth\":[{\"colorbar\":{\"outlinewidth\":0,\"ticks\":\"\"},\"type\":\"choropleth\"}],\"contour\":[{\"colorbar\":{\"outlinewidth\":0,\"ticks\":\"\"},\"colorscale\":[[0.0,\"#0d0887\"],[0.1111111111111111,\"#46039f\"],[0.2222222222222222,\"#7201a8\"],[0.3333333333333333,\"#9c179e\"],[0.4444444444444444,\"#bd3786\"],[0.5555555555555556,\"#d8576b\"],[0.6666666666666666,\"#ed7953\"],[0.7777777777777778,\"#fb9f3a\"],[0.8888888888888888,\"#fdca26\"],[1.0,\"#f0f921\"]],\"type\":\"contour\"}],\"contourcarpet\":[{\"colorbar\":{\"outlinewidth\":0,\"ticks\":\"\"},\"type\":\"contourcarpet\"}],\"heatmap\":[{\"colorbar\":{\"outlinewidth\":0,\"ticks\":\"\"},\"colorscale\":[[0.0,\"#0d0887\"],[0.1111111111111111,\"#46039f\"],[0.2222222222222222,\"#7201a8\"],[0.3333333333333333,\"#9c179e\"],[0.4444444444444444,\"#bd3786\"],[0.5555555555555556,\"#d8576b\"],[0.6666666666666666,\"#ed7953\"],[0.7777777777777778,\"#fb9f3a\"],[0.8888888888888888,\"#fdca26\"],[1.0,\"#f0f921\"]],\"type\":\"heatmap\"}],\"heatmapgl\":[{\"colorbar\":{\"outlinewidth\":0,\"ticks\":\"\"},\"colorscale\":[[0.0,\"#0d0887\"],[0.1111111111111111,\"#46039f\"],[0.2222222222222222,\"#7201a8\"],[0.3333333333333333,\"#9c179e\"],[0.4444444444444444,\"#bd3786\"],[0.5555555555555556,\"#d8576b\"],[0.6666666666666666,\"#ed7953\"],[0.7777777777777778,\"#fb9f3a\"],[0.8888888888888888,\"#fdca26\"],[1.0,\"#f0f921\"]],\"type\":\"heatmapgl\"}],\"histogram\":[{\"marker\":{\"pattern\":{\"fillmode\":\"overlay\",\"size\":10,\"solidity\":0.2}},\"type\":\"histogram\"}],\"histogram2d\":[{\"colorbar\":{\"outlinewidth\":0,\"ticks\":\"\"},\"colorscale\":[[0.0,\"#0d0887\"],[0.1111111111111111,\"#46039f\"],[0.2222222222222222,\"#7201a8\"],[0.3333333333333333,\"#9c179e\"],[0.4444444444444444,\"#bd3786\"],[0.5555555555555556,\"#d8576b\"],[0.6666666666666666,\"#ed7953\"],[0.7777777777777778,\"#fb9f3a\"],[0.8888888888888888,\"#fdca26\"],[1.0,\"#f0f921\"]],\"type\":\"histogram2d\"}],\"histogram2dcontour\":[{\"colorbar\":{\"outlinewidth\":0,\"ticks\":\"\"},\"colorscale\":[[0.0,\"#0d0887\"],[0.1111111111111111,\"#46039f\"],[0.2222222222222222,\"#7201a8\"],[0.3333333333333333,\"#9c179e\"],[0.4444444444444444,\"#bd3786\"],[0.5555555555555556,\"#d8576b\"],[0.6666666666666666,\"#ed7953\"],[0.7777777777777778,\"#fb9f3a\"],[0.8888888888888888,\"#fdca26\"],[1.0,\"#f0f921\"]],\"type\":\"histogram2dcontour\"}],\"mesh3d\":[{\"colorbar\":{\"outlinewidth\":0,\"ticks\":\"\"},\"type\":\"mesh3d\"}],\"parcoords\":[{\"line\":{\"colorbar\":{\"outlinewidth\":0,\"ticks\":\"\"}},\"type\":\"parcoords\"}],\"pie\":[{\"automargin\":true,\"type\":\"pie\"}],\"scatter\":[{\"marker\":{\"colorbar\":{\"outlinewidth\":0,\"ticks\":\"\"}},\"type\":\"scatter\"}],\"scatter3d\":[{\"line\":{\"colorbar\":{\"outlinewidth\":0,\"ticks\":\"\"}},\"marker\":{\"colorbar\":{\"outlinewidth\":0,\"ticks\":\"\"}},\"type\":\"scatter3d\"}],\"scattercarpet\":[{\"marker\":{\"colorbar\":{\"outlinewidth\":0,\"ticks\":\"\"}},\"type\":\"scattercarpet\"}],\"scattergeo\":[{\"marker\":{\"colorbar\":{\"outlinewidth\":0,\"ticks\":\"\"}},\"type\":\"scattergeo\"}],\"scattergl\":[{\"marker\":{\"colorbar\":{\"outlinewidth\":0,\"ticks\":\"\"}},\"type\":\"scattergl\"}],\"scattermapbox\":[{\"marker\":{\"colorbar\":{\"outlinewidth\":0,\"ticks\":\"\"}},\"type\":\"scattermapbox\"}],\"scatterpolar\":[{\"marker\":{\"colorbar\":{\"outlinewidth\":0,\"ticks\":\"\"}},\"type\":\"scatterpolar\"}],\"scatterpolargl\":[{\"marker\":{\"colorbar\":{\"outlinewidth\":0,\"ticks\":\"\"}},\"type\":\"scatterpolargl\"}],\"scatterternary\":[{\"marker\":{\"colorbar\":{\"outlinewidth\":0,\"ticks\":\"\"}},\"type\":\"scatterternary\"}],\"surface\":[{\"colorbar\":{\"outlinewidth\":0,\"ticks\":\"\"},\"colorscale\":[[0.0,\"#0d0887\"],[0.1111111111111111,\"#46039f\"],[0.2222222222222222,\"#7201a8\"],[0.3333333333333333,\"#9c179e\"],[0.4444444444444444,\"#bd3786\"],[0.5555555555555556,\"#d8576b\"],[0.6666666666666666,\"#ed7953\"],[0.7777777777777778,\"#fb9f3a\"],[0.8888888888888888,\"#fdca26\"],[1.0,\"#f0f921\"]],\"type\":\"surface\"}],\"table\":[{\"cells\":{\"fill\":{\"color\":\"#EBF0F8\"},\"line\":{\"color\":\"white\"}},\"header\":{\"fill\":{\"color\":\"#C8D4E3\"},\"line\":{\"color\":\"white\"}},\"type\":\"table\"}]},\"layout\":{\"annotationdefaults\":{\"arrowcolor\":\"#2a3f5f\",\"arrowhead\":0,\"arrowwidth\":1},\"autotypenumbers\":\"strict\",\"coloraxis\":{\"colorbar\":{\"outlinewidth\":0,\"ticks\":\"\"}},\"colorscale\":{\"diverging\":[[0,\"#8e0152\"],[0.1,\"#c51b7d\"],[0.2,\"#de77ae\"],[0.3,\"#f1b6da\"],[0.4,\"#fde0ef\"],[0.5,\"#f7f7f7\"],[0.6,\"#e6f5d0\"],[0.7,\"#b8e186\"],[0.8,\"#7fbc41\"],[0.9,\"#4d9221\"],[1,\"#276419\"]],\"sequential\":[[0.0,\"#0d0887\"],[0.1111111111111111,\"#46039f\"],[0.2222222222222222,\"#7201a8\"],[0.3333333333333333,\"#9c179e\"],[0.4444444444444444,\"#bd3786\"],[0.5555555555555556,\"#d8576b\"],[0.6666666666666666,\"#ed7953\"],[0.7777777777777778,\"#fb9f3a\"],[0.8888888888888888,\"#fdca26\"],[1.0,\"#f0f921\"]],\"sequentialminus\":[[0.0,\"#0d0887\"],[0.1111111111111111,\"#46039f\"],[0.2222222222222222,\"#7201a8\"],[0.3333333333333333,\"#9c179e\"],[0.4444444444444444,\"#bd3786\"],[0.5555555555555556,\"#d8576b\"],[0.6666666666666666,\"#ed7953\"],[0.7777777777777778,\"#fb9f3a\"],[0.8888888888888888,\"#fdca26\"],[1.0,\"#f0f921\"]]},\"colorway\":[\"#636efa\",\"#EF553B\",\"#00cc96\",\"#ab63fa\",\"#FFA15A\",\"#19d3f3\",\"#FF6692\",\"#B6E880\",\"#FF97FF\",\"#FECB52\"],\"font\":{\"color\":\"#2a3f5f\"},\"geo\":{\"bgcolor\":\"white\",\"lakecolor\":\"white\",\"landcolor\":\"#E5ECF6\",\"showlakes\":true,\"showland\":true,\"subunitcolor\":\"white\"},\"hoverlabel\":{\"align\":\"left\"},\"hovermode\":\"closest\",\"mapbox\":{\"style\":\"light\"},\"paper_bgcolor\":\"white\",\"plot_bgcolor\":\"#E5ECF6\",\"polar\":{\"angularaxis\":{\"gridcolor\":\"white\",\"linecolor\":\"white\",\"ticks\":\"\"},\"bgcolor\":\"#E5ECF6\",\"radialaxis\":{\"gridcolor\":\"white\",\"linecolor\":\"white\",\"ticks\":\"\"}},\"scene\":{\"xaxis\":{\"backgroundcolor\":\"#E5ECF6\",\"gridcolor\":\"white\",\"gridwidth\":2,\"linecolor\":\"white\",\"showbackground\":true,\"ticks\":\"\",\"zerolinecolor\":\"white\"},\"yaxis\":{\"backgroundcolor\":\"#E5ECF6\",\"gridcolor\":\"white\",\"gridwidth\":2,\"linecolor\":\"white\",\"showbackground\":true,\"ticks\":\"\",\"zerolinecolor\":\"white\"},\"zaxis\":{\"backgroundcolor\":\"#E5ECF6\",\"gridcolor\":\"white\",\"gridwidth\":2,\"linecolor\":\"white\",\"showbackground\":true,\"ticks\":\"\",\"zerolinecolor\":\"white\"}},\"shapedefaults\":{\"line\":{\"color\":\"#2a3f5f\"}},\"ternary\":{\"aaxis\":{\"gridcolor\":\"white\",\"linecolor\":\"white\",\"ticks\":\"\"},\"baxis\":{\"gridcolor\":\"white\",\"linecolor\":\"white\",\"ticks\":\"\"},\"bgcolor\":\"#E5ECF6\",\"caxis\":{\"gridcolor\":\"white\",\"linecolor\":\"white\",\"ticks\":\"\"}},\"title\":{\"x\":0.05},\"xaxis\":{\"automargin\":true,\"gridcolor\":\"white\",\"linecolor\":\"white\",\"ticks\":\"\",\"title\":{\"standoff\":15},\"zerolinecolor\":\"white\",\"zerolinewidth\":2},\"yaxis\":{\"automargin\":true,\"gridcolor\":\"white\",\"linecolor\":\"white\",\"ticks\":\"\",\"title\":{\"standoff\":15},\"zerolinecolor\":\"white\",\"zerolinewidth\":2}}},\"xaxis\":{\"anchor\":\"y\",\"domain\":[0.0,1.0],\"title\":{\"text\":\"valortotal\"}},\"yaxis\":{\"anchor\":\"x\",\"domain\":[0.0,1.0],\"title\":{\"text\":\"orgao_nome\"}},\"legend\":{\"tracegroupgap\":0},\"title\":{\"text\":\"\\u00d3rg\\u00e3os com maiores valores de contratos de motorista\"},\"barmode\":\"relative\",\"height\":1000},                        {\"responsive\": true}                    ).then(function(){\n",
       "                            \n",
       "var gd = document.getElementById('0268b303-c9d6-47a6-b2cb-658126fd12da');\n",
       "var x = new MutationObserver(function (mutations, observer) {{\n",
       "        var display = window.getComputedStyle(gd).display;\n",
       "        if (!display || display === 'none') {{\n",
       "            console.log([gd, 'removed!']);\n",
       "            Plotly.purge(gd);\n",
       "            observer.disconnect();\n",
       "        }}\n",
       "}});\n",
       "\n",
       "// Listen for the removal of the full notebook cells\n",
       "var notebookContainer = gd.closest('#notebook-container');\n",
       "if (notebookContainer) {{\n",
       "    x.observe(notebookContainer, {childList: true});\n",
       "}}\n",
       "\n",
       "// Listen for the clearing of the current output cell\n",
       "var outputEl = gd.closest('.output');\n",
       "if (outputEl) {{\n",
       "    x.observe(outputEl, {childList: true});\n",
       "}}\n",
       "\n",
       "                        })                };                });            </script>        </div>"
      ]
     },
     "metadata": {},
     "output_type": "display_data"
    }
   ],
   "source": [
    "px.bar(\n",
    "    maiores_contratos_motorista,\n",
    "    title='Órgãos com maiores valores de contratos de motorista',\n",
    "    y=maiores_contratos_motorista.index,\n",
    "    x='valortotal',\n",
    "    orientation='h',\n",
    "    labels={\n",
    "        'x': 'valor total dos contratos',\n",
    "        'y': 'órgão'\n",
    "    },\n",
    "    height=1000\n",
    ")"
   ]
  }
 ],
 "metadata": {
  "kernelspec": {
   "display_name": "Python 3 (ipykernel)",
   "language": "python",
   "name": "python3"
  },
  "language_info": {
   "codemirror_mode": {
    "name": "ipython",
    "version": 3
   },
   "file_extension": ".py",
   "mimetype": "text/x-python",
   "name": "python",
   "nbconvert_exporter": "python",
   "pygments_lexer": "ipython3",
   "version": "3.9.7"
  }
 },
 "nbformat": 4,
 "nbformat_minor": 5
}
