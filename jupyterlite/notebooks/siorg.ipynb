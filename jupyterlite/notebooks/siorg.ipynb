{
  "metadata": {
    "kernelspec": {
      "name": "python",
      "display_name": "Python (Pyodide)",
      "language": "python"
    },
    "language_info": {
      "codemirror_mode": {
        "name": "python",
        "version": 3
      },
      "file_extension": ".py",
      "mimetype": "text/x-python",
      "name": "python",
      "nbconvert_exporter": "python",
      "pygments_lexer": "ipython3",
      "version": "3.8"
    }
  },
  "nbformat_minor": 4,
  "nbformat": 4,
  "cells": [
    {
      "cell_type": "markdown",
      "source": "# Dados de estrutura organizacional da APF\n\nO SIORG é o sistema estruturante que contém toda a estrutura dos órgãos e entidades da Administração Pública Federal (APF).",
      "metadata": {}
    },
    {
      "cell_type": "code",
      "source": "import random\n\nimport pandas as pd\nimport requests\nfrom matplotlib import pyplot as pp",
      "metadata": {
        "trusted": true
      },
      "outputs": [],
      "execution_count": 37
    },
    {
      "cell_type": "markdown",
      "source": "O SIORG possui uma API que retorna dados em formato JSON.\n\n* Conjunto de dados: [Dados da Estrutura Organizacional do Poder Executivo Federal (Sistema SIORG)](https://dados.gov.br/dados/conjuntos-dados/dados-da-estrutura-organizacional-do-poder-executivo-federal-sistema-siorg)\n* [Documentação Swagger](https://api.siorg.economia.gov.br/)",
      "metadata": {}
    },
    {
      "cell_type": "markdown",
      "source": "Como o volume de dados é muito grande, vamos consultar o JSON que\nretorna os dados com a estrutura resumida, isto é, com menos atributos de dados.",
      "metadata": {}
    },
    {
      "cell_type": "code",
      "source": "REDUMIDA_URL = \"https://estruturaorganizacional.dados.gov.br/doc/estrutura-organizacional/resumida.json\"",
      "metadata": {
        "trusted": true
      },
      "outputs": [],
      "execution_count": 2
    },
    {
      "cell_type": "code",
      "source": "response = requests.get(REDUMIDA_URL)",
      "metadata": {
        "trusted": true
      },
      "outputs": [
        {
          "name": "stderr",
          "text": "/lib/python3.11/site-packages/urllib3/connectionpool.py:1101: InsecureRequestWarning: Unverified HTTPS request is being made to host 'estruturaorganizacional.dados.gov.br'. Adding certificate verification is strongly advised. See: https://urllib3.readthedocs.io/en/latest/advanced-usage.html#tls-warnings\n  warnings.warn(\n",
          "output_type": "stream"
        }
      ],
      "execution_count": 18
    },
    {
      "cell_type": "code",
      "source": "resumida = response.json()",
      "metadata": {
        "trusted": true
      },
      "outputs": [],
      "execution_count": 4
    },
    {
      "cell_type": "code",
      "source": "resumida.keys()",
      "metadata": {
        "trusted": true
      },
      "outputs": [
        {
          "execution_count": 5,
          "output_type": "execute_result",
          "data": {
            "text/plain": "dict_keys(['servico', 'unidades'])"
          },
          "metadata": {}
        }
      ],
      "execution_count": 5
    },
    {
      "cell_type": "markdown",
      "source": "A chave `servico` mostra eventuais mensagens de erro.\nOs dados mesmo estão em `unidades`. Vejamos 2 exemplos aleatórios.",
      "metadata": {}
    },
    {
      "cell_type": "code",
      "source": "random.sample(resumida[\"unidades\"],2)",
      "metadata": {
        "trusted": true
      },
      "outputs": [
        {
          "execution_count": 6,
          "output_type": "execute_result",
          "data": {
            "text/plain": "[{'codigoUnidade': 'https://estruturaorganizacional.dados.gov.br/id/unidade-organizacional/285885',\n  'codigoUnidadePai': 'https://estruturaorganizacional.dados.gov.br/id/unidade-organizacional/259480',\n  'codigoOrgaoEntidade': 'https://estruturaorganizacional.dados.gov.br/id/unidade-organizacional/100912',\n  'codigoTipoUnidade': 'https://estruturaorganizacional.dados.gov.br/id/tipo-unidade/unidade-administrativa',\n  'nome': 'Coordenadoria de Biblioteca',\n  'sigla': 'CBI-GUA',\n  'codigoEsfera': 'https://estruturaorganizacional.dados.gov.br/id/esfera/1',\n  'codigoPoder': 'https://estruturaorganizacional.dados.gov.br/id/poder/1',\n  'codigoNaturezaJuridica': 'https://estruturaorganizacional.dados.gov.br/id/natureza-juridica/4',\n  'codigoSubNaturezaJuridica': 'https://estruturaorganizacional.dados.gov.br/id/subnatureza-juridica/17',\n  'nivelNormatizacao': 'ATO_INTERNO',\n  'versaoConsulta': '114.8.2',\n  'dataInicialVersaoConsulta': '2021-12-01',\n  'dataFinalVersaoConsulta': None,\n  'operacao': None,\n  'codigoUnidadePaiAnterior': None,\n  'codigoOrgaoEntidadeAnterior': None},\n {'codigoUnidade': 'https://estruturaorganizacional.dados.gov.br/id/unidade-organizacional/311306',\n  'codigoUnidadePai': 'https://estruturaorganizacional.dados.gov.br/id/unidade-organizacional/308864',\n  'codigoOrgaoEntidade': 'https://estruturaorganizacional.dados.gov.br/id/unidade-organizacional/308821',\n  'codigoTipoUnidade': 'https://estruturaorganizacional.dados.gov.br/id/tipo-unidade/unidade-administrativa',\n  'nome': 'Coordenação-Geral 1/DPDC',\n  'sigla': 'CG 1/DPDC',\n  'codigoEsfera': 'https://estruturaorganizacional.dados.gov.br/id/esfera/1',\n  'codigoPoder': 'https://estruturaorganizacional.dados.gov.br/id/poder/1',\n  'codigoNaturezaJuridica': 'https://estruturaorganizacional.dados.gov.br/id/natureza-juridica/3',\n  'codigoSubNaturezaJuridica': None,\n  'nivelNormatizacao': 'ATO_INTERNO',\n  'versaoConsulta': '6.0.0',\n  'dataInicialVersaoConsulta': '2023-04-26',\n  'dataFinalVersaoConsulta': None,\n  'operacao': None,\n  'codigoUnidadePaiAnterior': None,\n  'codigoOrgaoEntidadeAnterior': None}]"
          },
          "metadata": {}
        }
      ],
      "execution_count": 6
    },
    {
      "cell_type": "markdown",
      "source": "Poucas informações, mas já dá para tirar alguma coisa.\nVamos jogar os dados em um dataframe.",
      "metadata": {}
    },
    {
      "cell_type": "code",
      "source": "df = pd.DataFrame(resumida[\"unidades\"])",
      "metadata": {
        "trusted": true
      },
      "outputs": [],
      "execution_count": 7
    },
    {
      "cell_type": "code",
      "source": "df.info()",
      "metadata": {
        "trusted": true
      },
      "outputs": [
        {
          "name": "stdout",
          "text": "<class 'pandas.core.frame.DataFrame'>\nRangeIndex: 86477 entries, 0 to 86476\nData columns (total 17 columns):\n #   Column                       Non-Null Count  Dtype \n---  ------                       --------------  ----- \n 0   codigoUnidade                86477 non-null  object\n 1   codigoUnidadePai             86477 non-null  object\n 2   codigoOrgaoEntidade          86477 non-null  object\n 3   codigoTipoUnidade            86477 non-null  object\n 4   nome                         86477 non-null  object\n 5   sigla                        86477 non-null  object\n 6   codigoEsfera                 86477 non-null  object\n 7   codigoPoder                  86477 non-null  object\n 8   codigoNaturezaJuridica       86469 non-null  object\n 9   codigoSubNaturezaJuridica    44991 non-null  object\n 10  nivelNormatizacao            86477 non-null  object\n 11  versaoConsulta               86474 non-null  object\n 12  dataInicialVersaoConsulta    86474 non-null  object\n 13  dataFinalVersaoConsulta      0 non-null      object\n 14  operacao                     0 non-null      object\n 15  codigoUnidadePaiAnterior     0 non-null      object\n 16  codigoOrgaoEntidadeAnterior  0 non-null      object\ndtypes: object(17)\nmemory usage: 5.6+ MB\n",
          "output_type": "stream"
        }
      ],
      "execution_count": 8
    },
    {
      "cell_type": "markdown",
      "source": "Algo que pode ser analisado entre esses poucos atributos é o código de natureza jurídica.",
      "metadata": {}
    },
    {
      "cell_type": "code",
      "source": "df[\"codigoNaturezaJuridica\"].value_counts()",
      "metadata": {
        "trusted": true
      },
      "outputs": [
        {
          "execution_count": 9,
          "output_type": "execute_result",
          "data": {
            "text/plain": "https://estruturaorganizacional.dados.gov.br/id/natureza-juridica/4    40534\nhttps://estruturaorganizacional.dados.gov.br/id/natureza-juridica/3    28352\nhttps://estruturaorganizacional.dados.gov.br/id/natureza-juridica/2    10214\nhttps://estruturaorganizacional.dados.gov.br/id/natureza-juridica/1     6128\nhttps://estruturaorganizacional.dados.gov.br/id/natureza-juridica/6      906\nhttps://estruturaorganizacional.dados.gov.br/id/natureza-juridica/7      335\nName: codigoNaturezaJuridica, dtype: int64"
          },
          "metadata": {}
        }
      ],
      "execution_count": 9
    },
    {
      "cell_type": "markdown",
      "source": "Não diz muita coisa, se não soubermos o que significam os códigos.",
      "metadata": {}
    },
    {
      "cell_type": "code",
      "source": "codigos_nj = df[\"codigoNaturezaJuridica\"].dropna().unique()",
      "metadata": {
        "trusted": true
      },
      "outputs": [],
      "execution_count": 13
    },
    {
      "cell_type": "markdown",
      "source": "Antes de fazer muitas requisições, vamos desabilitar os *warnings* para não poluir o caderno.",
      "metadata": {}
    },
    {
      "cell_type": "code",
      "source": "from requests.packages.urllib3.exceptions import InsecureRequestWarning\nrequests.packages.urllib3.disable_warnings(InsecureRequestWarning)",
      "metadata": {
        "trusted": true
      },
      "outputs": [],
      "execution_count": 19
    },
    {
      "cell_type": "code",
      "source": "codigo_nj = codigos_nj[0]\nresponse = requests.get(codigo_nj)\nresponse.json()",
      "metadata": {
        "trusted": true
      },
      "outputs": [
        {
          "execution_count": 25,
          "output_type": "execute_result",
          "data": {
            "text/plain": "{'servico': {'codigoErro': 0,\n  'mensagem': 'Processamento sem erros',\n  'data': '2024-03-07',\n  'versaoServico': '4.0.1',\n  'ipRequisitante': '200.198.196.202',\n  'ticket': None},\n 'naturezaJuridica': [{'codigoNaturezaJuridica': 3,\n   'descricaoNaturezaJuridica': 'Administração Direta',\n   'ativo': 'SIM'}]}"
          },
          "metadata": {}
        }
      ],
      "execution_count": 25
    },
    {
      "cell_type": "code",
      "source": "codigo_nj_map = {\n    codigo_nj:\n    requests.get(codigo_nj).json()[\"naturezaJuridica\"][0][\"descricaoNaturezaJuridica\"]\n    for codigo_nj in codigos_nj\n}\ncodigo_nj_map",
      "metadata": {
        "trusted": true
      },
      "outputs": [
        {
          "execution_count": 30,
          "output_type": "execute_result",
          "data": {
            "text/plain": "{'https://estruturaorganizacional.dados.gov.br/id/natureza-juridica/3': 'Administração Direta',\n 'https://estruturaorganizacional.dados.gov.br/id/natureza-juridica/1': 'Empresa Pública',\n 'https://estruturaorganizacional.dados.gov.br/id/natureza-juridica/2': 'Fundação Pública',\n 'https://estruturaorganizacional.dados.gov.br/id/natureza-juridica/6': 'Sociedade de Economia Mista',\n 'https://estruturaorganizacional.dados.gov.br/id/natureza-juridica/4': 'Autarquia',\n 'https://estruturaorganizacional.dados.gov.br/id/natureza-juridica/7': 'Órgão Público Autônomo Federal'}"
          },
          "metadata": {}
        }
      ],
      "execution_count": 30
    },
    {
      "cell_type": "code",
      "source": "# Cria a nova coluna com o nome da natureza jurídica\ndf[\"natureza_juridica\"] = df[\"codigoNaturezaJuridica\"].dropna().apply(lambda codigo_nj: codigo_nj_map[codigo_nj])",
      "metadata": {
        "trusted": true
      },
      "outputs": [],
      "execution_count": 34
    },
    {
      "cell_type": "code",
      "source": "qtde_nj = df[\"natureza_juridica\"].value_counts()\nqtde_nj",
      "metadata": {
        "trusted": true
      },
      "outputs": [
        {
          "execution_count": 39,
          "output_type": "execute_result",
          "data": {
            "text/plain": "Autarquia                         40534\nAdministração Direta              28352\nFundação Pública                  10214\nEmpresa Pública                    6128\nSociedade de Economia Mista         906\nÓrgão Público Autônomo Federal      335\nName: natureza_juridica, dtype: int64"
          },
          "metadata": {}
        }
      ],
      "execution_count": 39
    },
    {
      "cell_type": "code",
      "source": "pp.barh(qtde_nj.index, qtde_nj.values)",
      "metadata": {
        "trusted": true
      },
      "outputs": [
        {
          "execution_count": 43,
          "output_type": "execute_result",
          "data": {
            "text/plain": "<BarContainer object of 6 artists>"
          },
          "metadata": {}
        },
        {
          "output_type": "display_data",
          "data": {
            "text/plain": "<Figure size 640x480 with 1 Axes>",
            "image/png": "[encoded data removed]"
          },
          "metadata": {}
        }
      ],
      "execution_count": 43
    }
  ]
}