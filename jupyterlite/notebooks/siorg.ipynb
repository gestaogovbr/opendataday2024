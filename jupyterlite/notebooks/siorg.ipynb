{
  "metadata": {
    "kernelspec": {
      "name": "python",
      "display_name": "Python (Pyodide)",
      "language": "python"
    },
    "language_info": {
      "codemirror_mode": {
        "name": "python",
        "version": 3
      },
      "file_extension": ".py",
      "mimetype": "text/x-python",
      "name": "python",
      "nbconvert_exporter": "python",
      "pygments_lexer": "ipython3",
      "version": "3.8"
    }
  },
  "nbformat_minor": 4,
  "nbformat": 4,
  "cells": [
    {
      "cell_type": "markdown",
      "source": "# Dados de estrutura organizacional da APF\n\nO SIORG é o sistema estruturante que contém toda a estrutura dos órgãos e entidades da Administração Pública Federal (APF).",
      "metadata": {}
    },
    {
      "cell_type": "code",
      "source": "import random\n\nimport requests",
      "metadata": {
        "trusted": true
      },
      "outputs": [],
      "execution_count": 11
    },
    {
      "cell_type": "markdown",
      "source": "O SIORG possui uma API JSON.\n\nConjunto de dados: [Dados da Estrutura Organizacional do Poder Executivo Federal (Sistema SIORG)](https://dados.gov.br/dados/conjuntos-dados/dados-da-estrutura-organizacional-do-poder-executivo-federal-sistema-siorg)",
      "metadata": {}
    },
    {
      "cell_type": "markdown",
      "source": "Como o volume de dados é muito grande, vamos consultar o JSON que\nretorna os dados com a estrutura resumida, isto é, com menos atributos de dados.",
      "metadata": {}
    },
    {
      "cell_type": "code",
      "source": "REDUMIDA_URL = \"https://estruturaorganizacional.dados.gov.br/doc/estrutura-organizacional/resumida.json\"",
      "metadata": {
        "trusted": true
      },
      "outputs": [],
      "execution_count": 3
    },
    {
      "cell_type": "code",
      "source": "response = requests.get(REDUMIDA_URL)",
      "metadata": {
        "trusted": true
      },
      "outputs": [
        {
          "name": "stderr",
          "text": "/lib/python3.11/site-packages/urllib3/connectionpool.py:1101: InsecureRequestWarning: Unverified HTTPS request is being made to host 'estruturaorganizacional.dados.gov.br'. Adding certificate verification is strongly advised. See: https://urllib3.readthedocs.io/en/latest/advanced-usage.html#tls-warnings\n  warnings.warn(\n",
          "output_type": "stream"
        }
      ],
      "execution_count": 5
    },
    {
      "cell_type": "code",
      "source": "estrutura = response.json()",
      "metadata": {
        "trusted": true
      },
      "outputs": [],
      "execution_count": 6
    },
    {
      "cell_type": "code",
      "source": "estrutura.keys()",
      "metadata": {
        "trusted": true
      },
      "outputs": [
        {
          "execution_count": 7,
          "output_type": "execute_result",
          "data": {
            "text/plain": "dict_keys(['servico', 'unidades'])"
          },
          "metadata": {}
        }
      ],
      "execution_count": 7
    },
    {
      "cell_type": "markdown",
      "source": "A chave `servico` mostra eventuais mensagens de erro.\nOs dados mesmo estão em `unidades`. Vejamos 2 exemplos aleatórios.",
      "metadata": {}
    },
    {
      "cell_type": "code",
      "source": "random.sample(estrutura[\"unidades\"],2)",
      "metadata": {
        "trusted": true
      },
      "outputs": [
        {
          "execution_count": 12,
          "output_type": "execute_result",
          "data": {
            "text/plain": "[{'codigoUnidade': 'https://estruturaorganizacional.dados.gov.br/id/unidade-organizacional/115026',\n  'codigoUnidadePai': 'https://estruturaorganizacional.dados.gov.br/id/unidade-organizacional/115024',\n  'codigoOrgaoEntidade': 'https://estruturaorganizacional.dados.gov.br/id/unidade-organizacional/454',\n  'codigoTipoUnidade': 'https://estruturaorganizacional.dados.gov.br/id/tipo-unidade/unidade-administrativa',\n  'nome': 'Divisão de Conservação de Bens Móveis-CT',\n  'sigla': 'DICOBEM-CT',\n  'codigoEsfera': 'https://estruturaorganizacional.dados.gov.br/id/esfera/1',\n  'codigoPoder': 'https://estruturaorganizacional.dados.gov.br/id/poder/1',\n  'codigoNaturezaJuridica': 'https://estruturaorganizacional.dados.gov.br/id/natureza-juridica/4',\n  'codigoSubNaturezaJuridica': 'https://estruturaorganizacional.dados.gov.br/id/subnatureza-juridica/18',\n  'nivelNormatizacao': 'ATO_INTERNO',\n  'versaoConsulta': '109.1.0',\n  'dataInicialVersaoConsulta': '2023-08-14',\n  'dataFinalVersaoConsulta': None,\n  'operacao': None,\n  'codigoUnidadePaiAnterior': None,\n  'codigoOrgaoEntidadeAnterior': None},\n {'codigoUnidade': 'https://estruturaorganizacional.dados.gov.br/id/unidade-organizacional/202520',\n  'codigoUnidadePai': 'https://estruturaorganizacional.dados.gov.br/id/unidade-organizacional/202519',\n  'codigoOrgaoEntidade': 'https://estruturaorganizacional.dados.gov.br/id/unidade-organizacional/427',\n  'codigoTipoUnidade': 'https://estruturaorganizacional.dados.gov.br/id/tipo-unidade/unidade-administrativa',\n  'nome': 'Divisão de Contratos Bipartites',\n  'sigla': 'DCB/CPIN',\n  'codigoEsfera': 'https://estruturaorganizacional.dados.gov.br/id/esfera/1',\n  'codigoPoder': 'https://estruturaorganizacional.dados.gov.br/id/poder/1',\n  'codigoNaturezaJuridica': 'https://estruturaorganizacional.dados.gov.br/id/natureza-juridica/4',\n  'codigoSubNaturezaJuridica': 'https://estruturaorganizacional.dados.gov.br/id/subnatureza-juridica/18',\n  'nivelNormatizacao': 'ATO_INTERNO',\n  'versaoConsulta': '110.8.3',\n  'dataInicialVersaoConsulta': '2023-08-10',\n  'dataFinalVersaoConsulta': None,\n  'operacao': None,\n  'codigoUnidadePaiAnterior': None,\n  'codigoOrgaoEntidadeAnterior': None}]"
          },
          "metadata": {}
        }
      ],
      "execution_count": 12
    },
    {
      "cell_type": "code",
      "source": "",
      "metadata": {
        "trusted": true
      },
      "outputs": [],
      "execution_count": null
    }
  ]
}