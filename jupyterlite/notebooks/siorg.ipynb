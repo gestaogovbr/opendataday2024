{
  "metadata": {
    "kernelspec": {
      "name": "python",
      "display_name": "Python (Pyodide)",
      "language": "python"
    },
    "language_info": {
      "codemirror_mode": {
        "name": "python",
        "version": 3
      },
      "file_extension": ".py",
      "mimetype": "text/x-python",
      "name": "python",
      "nbconvert_exporter": "python",
      "pygments_lexer": "ipython3",
      "version": "3.8"
    }
  },
  "nbformat_minor": 4,
  "nbformat": 4,
  "cells": [
    {
      "cell_type": "markdown",
      "source": "# Dados de estrutura organizacional da APF\n\nO SIORG é o sistema estruturante que contém toda a estrutura dos órgãos e entidades da Administração Pública Federal (APF).",
      "metadata": {}
    },
    {
      "cell_type": "code",
      "source": "import random\n\nimport pandas as pd\nimport requests\nfrom matplotlib import pyplot as pp",
      "metadata": {
        "trusted": true
      },
      "outputs": [],
      "execution_count": 1
    },
    {
      "cell_type": "markdown",
      "source": "O SIORG possui uma API que retorna dados em formato JSON.\n\n* Conjunto de dados: [Dados da Estrutura Organizacional do Poder Executivo Federal (Sistema SIORG)](https://dados.gov.br/dados/conjuntos-dados/dados-da-estrutura-organizacional-do-poder-executivo-federal-sistema-siorg)\n* [Documentação Swagger](https://api.siorg.economia.gov.br/)",
      "metadata": {}
    },
    {
      "cell_type": "markdown",
      "source": "## Carga dos dados",
      "metadata": {}
    },
    {
      "cell_type": "markdown",
      "source": "Como o volume de dados é muito grande, vamos consultar o JSON que\nretorna os dados com a estrutura resumida, isto é, com menos atributos de dados.",
      "metadata": {}
    },
    {
      "cell_type": "code",
      "source": "REDUMIDA_URL = \"https://estruturaorganizacional.dados.gov.br/doc/estrutura-organizacional/resumida.json\"",
      "metadata": {
        "trusted": true
      },
      "outputs": [],
      "execution_count": 2
    },
    {
      "cell_type": "code",
      "source": "response = requests.get(REDUMIDA_URL)",
      "metadata": {
        "trusted": true
      },
      "outputs": [
        {
          "name": "stderr",
          "text": "/lib/python3.11/site-packages/urllib3/connectionpool.py:1101: InsecureRequestWarning: Unverified HTTPS request is being made to host 'estruturaorganizacional.dados.gov.br'. Adding certificate verification is strongly advised. See: https://urllib3.readthedocs.io/en/latest/advanced-usage.html#tls-warnings\n  warnings.warn(\n",
          "output_type": "stream"
        }
      ],
      "execution_count": 3
    },
    {
      "cell_type": "code",
      "source": "resumida = response.json()",
      "metadata": {
        "trusted": true
      },
      "outputs": [],
      "execution_count": 4
    },
    {
      "cell_type": "code",
      "source": "resumida.keys()",
      "metadata": {
        "trusted": true
      },
      "outputs": [
        {
          "execution_count": 5,
          "output_type": "execute_result",
          "data": {
            "text/plain": "dict_keys(['servico', 'unidades'])"
          },
          "metadata": {}
        }
      ],
      "execution_count": 5
    },
    {
      "cell_type": "markdown",
      "source": "A chave `servico` mostra eventuais mensagens de erro.\nOs dados mesmo estão em `unidades`. Vejamos 2 exemplos aleatórios.",
      "metadata": {}
    },
    {
      "cell_type": "code",
      "source": "random.sample(resumida[\"unidades\"],2)",
      "metadata": {
        "trusted": true
      },
      "outputs": [
        {
          "execution_count": 6,
          "output_type": "execute_result",
          "data": {
            "text/plain": "[{'codigoUnidade': 'https://estruturaorganizacional.dados.gov.br/id/unidade-organizacional/267360',\n  'codigoUnidadePai': 'https://estruturaorganizacional.dados.gov.br/id/unidade-organizacional/258295',\n  'codigoOrgaoEntidade': 'https://estruturaorganizacional.dados.gov.br/id/unidade-organizacional/100902',\n  'codigoTipoUnidade': 'https://estruturaorganizacional.dados.gov.br/id/tipo-unidade/unidade-administrativa',\n  'nome': 'Coordenação de Pesquisa e Pós-Graduação',\n  'sigla': 'CPPG',\n  'codigoEsfera': 'https://estruturaorganizacional.dados.gov.br/id/esfera/1',\n  'codigoPoder': 'https://estruturaorganizacional.dados.gov.br/id/poder/1',\n  'codigoNaturezaJuridica': 'https://estruturaorganizacional.dados.gov.br/id/natureza-juridica/4',\n  'codigoSubNaturezaJuridica': 'https://estruturaorganizacional.dados.gov.br/id/subnatureza-juridica/17',\n  'nivelNormatizacao': 'ATO_INTERNO',\n  'versaoConsulta': '110.0.1',\n  'dataInicialVersaoConsulta': '2020-09-28',\n  'dataFinalVersaoConsulta': None,\n  'operacao': None,\n  'codigoUnidadePaiAnterior': None,\n  'codigoOrgaoEntidadeAnterior': None},\n {'codigoUnidade': 'https://estruturaorganizacional.dados.gov.br/id/unidade-organizacional/259396',\n  'codigoUnidadePai': 'https://estruturaorganizacional.dados.gov.br/id/unidade-organizacional/1200',\n  'codigoOrgaoEntidade': 'https://estruturaorganizacional.dados.gov.br/id/unidade-organizacional/100912',\n  'codigoTipoUnidade': 'https://estruturaorganizacional.dados.gov.br/id/tipo-unidade/unidade-administrativa',\n  'nome': 'Coordenadoria Geral de Gestão de Pessoas',\n  'sigla': 'CGGP-ALEGRE',\n  'codigoEsfera': 'https://estruturaorganizacional.dados.gov.br/id/esfera/1',\n  'codigoPoder': 'https://estruturaorganizacional.dados.gov.br/id/poder/1',\n  'codigoNaturezaJuridica': 'https://estruturaorganizacional.dados.gov.br/id/natureza-juridica/4',\n  'codigoSubNaturezaJuridica': 'https://estruturaorganizacional.dados.gov.br/id/subnatureza-juridica/17',\n  'nivelNormatizacao': 'ATO_INTERNO',\n  'versaoConsulta': '113.4.1',\n  'dataInicialVersaoConsulta': '2020-11-13',\n  'dataFinalVersaoConsulta': None,\n  'operacao': None,\n  'codigoUnidadePaiAnterior': None,\n  'codigoOrgaoEntidadeAnterior': None}]"
          },
          "metadata": {}
        }
      ],
      "execution_count": 6
    },
    {
      "cell_type": "markdown",
      "source": "Poucas informações, mas já dá para tirar alguma coisa.\nVamos jogar os dados em um dataframe.",
      "metadata": {}
    },
    {
      "cell_type": "code",
      "source": "df = pd.DataFrame(resumida[\"unidades\"])",
      "metadata": {
        "trusted": true
      },
      "outputs": [],
      "execution_count": 7
    },
    {
      "cell_type": "code",
      "source": "df.info()",
      "metadata": {
        "trusted": true
      },
      "outputs": [
        {
          "name": "stdout",
          "text": "<class 'pandas.core.frame.DataFrame'>\nRangeIndex: 86497 entries, 0 to 86496\nData columns (total 17 columns):\n #   Column                       Non-Null Count  Dtype \n---  ------                       --------------  ----- \n 0   codigoUnidade                86497 non-null  object\n 1   codigoUnidadePai             86497 non-null  object\n 2   codigoOrgaoEntidade          86497 non-null  object\n 3   codigoTipoUnidade            86497 non-null  object\n 4   nome                         86497 non-null  object\n 5   sigla                        86497 non-null  object\n 6   codigoEsfera                 86497 non-null  object\n 7   codigoPoder                  86497 non-null  object\n 8   codigoNaturezaJuridica       86489 non-null  object\n 9   codigoSubNaturezaJuridica    44992 non-null  object\n 10  nivelNormatizacao            86497 non-null  object\n 11  versaoConsulta               86494 non-null  object\n 12  dataInicialVersaoConsulta    86494 non-null  object\n 13  dataFinalVersaoConsulta      0 non-null      object\n 14  operacao                     0 non-null      object\n 15  codigoUnidadePaiAnterior     0 non-null      object\n 16  codigoOrgaoEntidadeAnterior  0 non-null      object\ndtypes: object(17)\nmemory usage: 5.6+ MB\n",
          "output_type": "stream"
        }
      ],
      "execution_count": 8
    },
    {
      "cell_type": "markdown",
      "source": "## Perguntas",
      "metadata": {}
    },
    {
      "cell_type": "markdown",
      "source": "Com os dados carregados, podemos nos fazer algumas perguntas:\n- Quais são as naturezas jurídicas os órgãos?\n- Quantos e quais são os Ministérios?\n- Qual é a estrutura da SEGES",
      "metadata": {}
    },
    {
      "cell_type": "markdown",
      "source": "### Natureza Jurídica",
      "metadata": {}
    },
    {
      "cell_type": "markdown",
      "source": "Algo que pode ser analisado entre esses poucos atributos é o código de natureza jurídica.",
      "metadata": {}
    },
    {
      "cell_type": "code",
      "source": "df[\"codigoNaturezaJuridica\"].value_counts()",
      "metadata": {
        "trusted": true
      },
      "outputs": [
        {
          "execution_count": 9,
          "output_type": "execute_result",
          "data": {
            "text/plain": "https://estruturaorganizacional.dados.gov.br/id/natureza-juridica/4    40535\nhttps://estruturaorganizacional.dados.gov.br/id/natureza-juridica/3    28352\nhttps://estruturaorganizacional.dados.gov.br/id/natureza-juridica/2    10214\nhttps://estruturaorganizacional.dados.gov.br/id/natureza-juridica/1     6147\nhttps://estruturaorganizacional.dados.gov.br/id/natureza-juridica/6      906\nhttps://estruturaorganizacional.dados.gov.br/id/natureza-juridica/7      335\nName: codigoNaturezaJuridica, dtype: int64"
          },
          "metadata": {}
        }
      ],
      "execution_count": 9
    },
    {
      "cell_type": "markdown",
      "source": "Não diz muita coisa, se não soubermos o que significam os códigos.",
      "metadata": {}
    },
    {
      "cell_type": "code",
      "source": "codigos_nj = df[\"codigoNaturezaJuridica\"].dropna().unique()",
      "metadata": {
        "trusted": true
      },
      "outputs": [],
      "execution_count": 10
    },
    {
      "cell_type": "markdown",
      "source": "Vimos que são apenas 6 valores distintos, então não há problema em iterar requisições http para\nconsultar os valores de cada um.\n\nAntes de fazer muitas requisições, vamos desabilitar os *warnings* para não poluir o caderno.",
      "metadata": {}
    },
    {
      "cell_type": "code",
      "source": "from requests.packages.urllib3.exceptions import InsecureRequestWarning\nrequests.packages.urllib3.disable_warnings(InsecureRequestWarning)",
      "metadata": {
        "trusted": true
      },
      "outputs": [],
      "execution_count": 11
    },
    {
      "cell_type": "code",
      "source": "codigo_nj = codigos_nj[0]\nresponse = requests.get(codigo_nj)\nresponse.json()",
      "metadata": {
        "trusted": true,
        "scrolled": true
      },
      "outputs": [
        {
          "execution_count": 12,
          "output_type": "execute_result",
          "data": {
            "text/plain": "{'servico': {'codigoErro': 0,\n  'mensagem': 'Processamento sem erros',\n  'data': '2024-03-08',\n  'versaoServico': '4.0.1',\n  'ipRequisitante': '200.198.196.202',\n  'ticket': None},\n 'naturezaJuridica': [{'codigoNaturezaJuridica': 3,\n   'descricaoNaturezaJuridica': 'Administração Direta',\n   'ativo': 'SIM'}]}"
          },
          "metadata": {}
        }
      ],
      "execution_count": 12
    },
    {
      "cell_type": "code",
      "source": "codigo_nj_map = {\n    codigo_nj:\n    requests.get(codigo_nj).json()[\"naturezaJuridica\"][0][\"descricaoNaturezaJuridica\"]\n    for codigo_nj in codigos_nj\n}\ncodigo_nj_map",
      "metadata": {
        "trusted": true
      },
      "outputs": [
        {
          "execution_count": 13,
          "output_type": "execute_result",
          "data": {
            "text/plain": "{'https://estruturaorganizacional.dados.gov.br/id/natureza-juridica/3': 'Administração Direta',\n 'https://estruturaorganizacional.dados.gov.br/id/natureza-juridica/1': 'Empresa Pública',\n 'https://estruturaorganizacional.dados.gov.br/id/natureza-juridica/2': 'Fundação Pública',\n 'https://estruturaorganizacional.dados.gov.br/id/natureza-juridica/6': 'Sociedade de Economia Mista',\n 'https://estruturaorganizacional.dados.gov.br/id/natureza-juridica/4': 'Autarquia',\n 'https://estruturaorganizacional.dados.gov.br/id/natureza-juridica/7': 'Órgão Público Autônomo Federal'}"
          },
          "metadata": {}
        }
      ],
      "execution_count": 13
    },
    {
      "cell_type": "code",
      "source": "# Cria a nova coluna com o nome da natureza jurídica\ndf[\"natureza_juridica\"] = df[\"codigoNaturezaJuridica\"].dropna().apply(lambda codigo_nj: codigo_nj_map[codigo_nj])",
      "metadata": {
        "trusted": true
      },
      "outputs": [],
      "execution_count": 14
    },
    {
      "cell_type": "code",
      "source": "qtde_nj = df[\"natureza_juridica\"].value_counts()\nqtde_nj",
      "metadata": {
        "trusted": true
      },
      "outputs": [
        {
          "execution_count": 15,
          "output_type": "execute_result",
          "data": {
            "text/plain": "Autarquia                         40535\nAdministração Direta              28352\nFundação Pública                  10214\nEmpresa Pública                    6147\nSociedade de Economia Mista         906\nÓrgão Público Autônomo Federal      335\nName: natureza_juridica, dtype: int64"
          },
          "metadata": {}
        }
      ],
      "execution_count": 15
    },
    {
      "cell_type": "markdown",
      "source": "Existem mais de 40 mil autarquias no Brasil? Certamente que não. Esse número\ncontabiliza as unidades administrativas, como cada pequena repartição ou\nescritório. As autarquias geralmente as têm em maior quantidade porque estão\nespalhadas pelo Brasil, enquanto os ministérios (administração direta) tem\nsuas unidades administrativas relativamente concentradas em Brasília.\n\nPrecisamos, portanto, filtrar os resultados para contabilizar somente os que\nsão órgãos e entidades.",
      "metadata": {}
    },
    {
      "cell_type": "code",
      "source": "qtde_tipo_unidade = df[\"codigoTipoUnidade\"].value_counts()\nqtde_tipo_unidade",
      "metadata": {
        "trusted": true,
        "scrolled": true
      },
      "outputs": [
        {
          "execution_count": 16,
          "output_type": "execute_result",
          "data": {
            "text/plain": "https://estruturaorganizacional.dados.gov.br/id/tipo-unidade/unidade-administrativa    84269\nhttps://estruturaorganizacional.dados.gov.br/id/tipo-unidade/unidade-colegiada          1919\nhttps://estruturaorganizacional.dados.gov.br/id/tipo-unidade/entidade                    214\nhttps://estruturaorganizacional.dados.gov.br/id/tipo-unidade/orgao                        87\nhttps://estruturaorganizacional.dados.gov.br/id/tipo-unidade/ente                          8\nName: codigoTipoUnidade, dtype: int64"
          },
          "metadata": {}
        }
      ],
      "execution_count": 16
    },
    {
      "cell_type": "code",
      "source": "TIPO_ORGAO = \"https://estruturaorganizacional.dados.gov.br/id/tipo-unidade/orgao\"\nTIPO_ENTIDADE = \"https://estruturaorganizacional.dados.gov.br/id/tipo-unidade/entidade\"",
      "metadata": {
        "trusted": true
      },
      "outputs": [],
      "execution_count": 17
    },
    {
      "cell_type": "code",
      "source": "df[df[\"codigoTipoUnidade\"].isin((TIPO_ORGAO, TIPO_ENTIDADE))][\"nome\"]",
      "metadata": {
        "trusted": true
      },
      "outputs": [
        {
          "execution_count": 18,
          "output_type": "execute_result",
          "data": {
            "text/plain": "2                              Governo do Distrito Federal\n3                       Financiadora de Estudos e Projetos\n28       Banco Nacional de Desenvolvimento Econômico e ...\n585      Fundação Instituto Brasileiro de Geografia e E...\n1476              Instituto de Pesquisa Econômica Aplicada\n                               ...                        \n86492     Tribunal Regional do Trabalho da 20ª Região (SE)\n86493     Tribunal Regional do Trabalho da 21ª Região (RN)\n86494     Tribunal Regional do Trabalho da 22ª Região (PI)\n86495     Tribunal Regional do Trabalho da 23ª Região (MT)\n86496     Tribunal Regional do Trabalho da 24ª Região (MS)\nName: nome, Length: 301, dtype: object"
          },
          "metadata": {}
        }
      ],
      "execution_count": 18
    },
    {
      "cell_type": "markdown",
      "source": "Aqui vemos que estão incluídos órgãos de outras unidades da federação\n(Governo do Distrito Federal) e outros poderes (tribunais). Precisamos\nfiltrar também por esfera e poder, para encontrar somente o executivo federal.",
      "metadata": {}
    },
    {
      "cell_type": "code",
      "source": "qtde_codigo_esfera = df[\"codigoEsfera\"].value_counts()\nqtde_codigo_esfera",
      "metadata": {
        "trusted": true
      },
      "outputs": [
        {
          "execution_count": 19,
          "output_type": "execute_result",
          "data": {
            "text/plain": "https://estruturaorganizacional.dados.gov.br/id/esfera/1    86118\nhttps://estruturaorganizacional.dados.gov.br/id/esfera/2      378\n                                                                1\nName: codigoEsfera, dtype: int64"
          },
          "metadata": {}
        }
      ],
      "execution_count": 19
    },
    {
      "cell_type": "markdown",
      "source": "Pela quantidade, como a maioria das UFs não usa o SIORG, supõe-se\nque federal seja o primeiro. Vamos tirar a prova.",
      "metadata": {}
    },
    {
      "cell_type": "code",
      "source": "response = requests.get(qtde_codigo_esfera.index[0])\nresponse.json()",
      "metadata": {
        "trusted": true,
        "scrolled": true
      },
      "outputs": [
        {
          "execution_count": 20,
          "output_type": "execute_result",
          "data": {
            "text/plain": "{'servico': {'codigoErro': 0,\n  'mensagem': 'Processamento sem erros',\n  'data': '2024-03-08',\n  'versaoServico': '4.0.1',\n  'ipRequisitante': '200.198.196.202',\n  'ticket': None},\n 'esfera': [{'codigoEsfera': 1, 'descricaoEsfera': 'Federal', 'ativo': 'SIM'}]}"
          },
          "metadata": {}
        }
      ],
      "execution_count": 20
    },
    {
      "cell_type": "markdown",
      "source": "De fato, federal é o primero.",
      "metadata": {}
    },
    {
      "cell_type": "code",
      "source": "ESFERA_FEDERAL = qtde_codigo_esfera.index[0]",
      "metadata": {
        "trusted": true
      },
      "outputs": [],
      "execution_count": 21
    },
    {
      "cell_type": "code",
      "source": "qtde_codigo_poder = df[\"codigoPoder\"].value_counts()\nqtde_codigo_poder",
      "metadata": {
        "trusted": true
      },
      "outputs": [
        {
          "execution_count": 22,
          "output_type": "execute_result",
          "data": {
            "text/plain": "https://estruturaorganizacional.dados.gov.br/id/poder/1    85549\nhttps://estruturaorganizacional.dados.gov.br/id/poder/3      721\nhttps://estruturaorganizacional.dados.gov.br/id/poder/4      123\nhttps://estruturaorganizacional.dados.gov.br/id/poder/2      101\n                                                               3\nName: codigoPoder, dtype: int64"
          },
          "metadata": {}
        }
      ],
      "execution_count": 22
    },
    {
      "cell_type": "markdown",
      "source": "Igualmente, vamos verificar se o poder executivo é o primeiro.",
      "metadata": {}
    },
    {
      "cell_type": "code",
      "source": "response = requests.get(qtde_codigo_poder.index[0])\nresponse.json()",
      "metadata": {
        "trusted": true,
        "scrolled": true
      },
      "outputs": [
        {
          "execution_count": 23,
          "output_type": "execute_result",
          "data": {
            "text/plain": "{'servico': {'codigoErro': 0,\n  'mensagem': 'Processamento sem erros',\n  'data': '2024-03-08',\n  'versaoServico': '4.0.1',\n  'ipRequisitante': '200.198.196.202',\n  'ticket': None},\n 'poder': [{'codigoPoder': 1, 'descricaoPoder': 'Executivo', 'ativo': 'SIM'}]}"
          },
          "metadata": {}
        }
      ],
      "execution_count": 23
    },
    {
      "cell_type": "markdown",
      "source": "E constatamos que sim.",
      "metadata": {}
    },
    {
      "cell_type": "code",
      "source": "PODER_EXECUTIVO = qtde_codigo_poder.index[0]",
      "metadata": {
        "trusted": true
      },
      "outputs": [],
      "execution_count": 24
    },
    {
      "cell_type": "markdown",
      "source": "Agora, vamos filtrar também pela esfera federal e poder executivo.",
      "metadata": {}
    },
    {
      "cell_type": "code",
      "source": "df_apf = df[\n    df[\"codigoTipoUnidade\"].isin((TIPO_ORGAO, TIPO_ENTIDADE)) &\n    (df[\"codigoEsfera\"] == ESFERA_FEDERAL) &\n    (df[\"codigoPoder\"] == PODER_EXECUTIVO)\n]\ndf_apf[\"nome\"]",
      "metadata": {
        "trusted": true
      },
      "outputs": [
        {
          "execution_count": 25,
          "output_type": "execute_result",
          "data": {
            "text/plain": "3                       Financiadora de Estudos e Projetos\n28       Banco Nacional de Desenvolvimento Econômico e ...\n585      Fundação Instituto Brasileiro de Geografia e E...\n1476              Instituto de Pesquisa Econômica Aplicada\n1539     Conselho Nacional de Desenvolvimento Científic...\n                               ...                        \n86051    Secretaria de Comunicação Social da Presidênci...\n86081                       Ministério da Igualdade Racial\n86276                       Ministério dos Povos Indígenas\n86301      Veículo de Desestatização MG Investimentos S.A.\n86390    Ministério do Empreendedorismo, da Microempres...\nName: nome, Length: 257, dtype: object"
          },
          "metadata": {}
        }
      ],
      "execution_count": 25
    },
    {
      "cell_type": "markdown",
      "source": "Agora sim, temos os órgãos e entidades do poder executivo federal.\nSão atualmente 257.",
      "metadata": {}
    },
    {
      "cell_type": "code",
      "source": "qtde_nj = df_apf[\"natureza_juridica\"].value_counts()\nqtde_nj",
      "metadata": {
        "trusted": true
      },
      "outputs": [
        {
          "execution_count": 26,
          "output_type": "execute_result",
          "data": {
            "text/plain": "Autarquia                         125\nFundação Pública                   43\nAdministração Direta               42\nEmpresa Pública                    31\nSociedade de Economia Mista        15\nÓrgão Público Autônomo Federal      1\nName: natureza_juridica, dtype: int64"
          },
          "metadata": {}
        }
      ],
      "execution_count": 26
    },
    {
      "cell_type": "code",
      "source": "pp.barh(qtde_nj.index, qtde_nj.values)",
      "metadata": {
        "trusted": true
      },
      "outputs": [
        {
          "execution_count": 27,
          "output_type": "execute_result",
          "data": {
            "text/plain": "<BarContainer object of 6 artists>"
          },
          "metadata": {}
        },
        {
          "output_type": "display_data",
          "data": {
            "text/plain": "<Figure size 640x480 with 1 Axes>",
            "image/png": "[encoded data removed]"
          },
          "metadata": {}
        }
      ],
      "execution_count": 27
    },
    {
      "cell_type": "markdown",
      "source": "### Ministérios",
      "metadata": {}
    },
    {
      "cell_type": "markdown",
      "source": "Se quisermos saber quais são os 42 Ministérios (ou Secretarias e outros\nórgãos com *status* de ministério), temos que filter pela natureza\njurídica \"Administração Direta\".",
      "metadata": {}
    },
    {
      "cell_type": "code",
      "source": "df_apf[df_apf[\"natureza_juridica\"] == \"Administração Direta\"][\"nome\"]",
      "metadata": {
        "trusted": true
      },
      "outputs": [
        {
          "execution_count": 28,
          "output_type": "execute_result",
          "data": {
            "text/plain": "2050                              Presidência da República\n2202     Gabinete de Segurança Institucional da Presidê...\n2426                              Advocacia-Geral da União\n5024                                Ministério da Educação\n6481                    Ministério das Relações Exteriores\n9404                                   Ministério da Saúde\n11409       Assessoria Especial do Presidente da República\n32022                        Vice-Presidência da República\n33287       Ministério do Meio Ambiente e Mudança do Clima\n36964          Gabinete Pessoal do Presidente da República\n39502               Casa Civil da Presidência da República\n39850                        Ministério de Minas e Energia\n53270                                 Ministério da Defesa\n53345    Secretaria de Relações Institucionais da Presi...\n67608                                Ministério do Turismo\n68141                         Controladoria-Geral da União\n68343         Secretaria-Geral da Presidência da República\n72637            Ministério da Justiça e Segurança Pública\n74002                          Ministério das Comunicações\n74883         Ministério da Ciência, Tecnologia e Inovação\n75787                 Ministério da Agricultura e Pecuária\n76393    Ministério do Desenvolvimento Agrário e Agricu...\n76622                    Ministério da Pesca e Aquicultura\n77048    Ministério do Desenvolvimento e Assistência So...\n77180                                Ministério do Esporte\n77260                               Ministério das Cidades\n77486    Ministério da Integração e do Desenvolvimento ...\n78314                                Ministério da Fazenda\n82388    Ministério da Gestão e da Inovação em Serviços...\n82832               Ministério do Planejamento e Orçamento\n83256    Ministério do Desenvolvimento, Indústria, Comé...\n83495                              Ministério das Mulheres\n83557       Ministério dos Direitos Humanos e da Cidadania\n83742                    Ministério de Portos e Aeroportos\n83957                           Ministério dos Transportes\n84228                     Ministério da Previdência Social\n85500                     Ministério do Trabalho e Emprego\n85638                                Ministério da Cultura\n86051    Secretaria de Comunicação Social da Presidênci...\n86081                       Ministério da Igualdade Racial\n86276                       Ministério dos Povos Indígenas\n86390    Ministério do Empreendedorismo, da Microempres...\nName: nome, dtype: object"
          },
          "metadata": {}
        }
      ],
      "execution_count": 28
    },
    {
      "cell_type": "markdown",
      "source": "### SEGES",
      "metadata": {}
    },
    {
      "cell_type": "markdown",
      "source": "Para ver a estrutura da SEGES, primeiro precisamos encontrar o seu\ncódigo. Há várias maneiras de se descobrir, como pela consulta web\npública do SIORG. Mas vamos tirar dos dados aqui mesmo, por exemplo,\na partir da sigla. Quantas unidades têm a sigla \"SEGES\"?",
      "metadata": {}
    },
    {
      "cell_type": "code",
      "source": "unidades_sigla_seges = df[df[\"sigla\"] == \"SEGES\"].loc[:,(\"codigoUnidade\", \"nome\")]\nunidades_sigla_seges",
      "metadata": {
        "trusted": true
      },
      "outputs": [
        {
          "execution_count": 29,
          "output_type": "execute_result",
          "data": {
            "text/plain": "                                           codigoUnidade  \\\n1564   https://estruturaorganizacional.dados.gov.br/i...   \n22443  https://estruturaorganizacional.dados.gov.br/i...   \n64016  https://estruturaorganizacional.dados.gov.br/i...   \n65254  https://estruturaorganizacional.dados.gov.br/i...   \n74534  https://estruturaorganizacional.dados.gov.br/i...   \n81855  https://estruturaorganizacional.dados.gov.br/i...   \n\n                                        nome  \n1564   Serviço de Apoio à Gestão Contratual   \n22443            Seção de Gestão Estratégica  \n64016          Serviço de Gestão Estratégica  \n65254           Seção de gestão de contratos  \n74534            Setor de Gestão Estratégica  \n81855        Secretaria de Gestão e Inovação  ",
            "text/html": "<div>\n<style scoped>\n    .dataframe tbody tr th:only-of-type {\n        vertical-align: middle;\n    }\n\n    .dataframe tbody tr th {\n        vertical-align: top;\n    }\n\n    .dataframe thead th {\n        text-align: right;\n    }\n</style>\n<table border=\"1\" class=\"dataframe\">\n  <thead>\n    <tr style=\"text-align: right;\">\n      <th></th>\n      <th>codigoUnidade</th>\n      <th>nome</th>\n    </tr>\n  </thead>\n  <tbody>\n    <tr>\n      <th>1564</th>\n      <td>https://estruturaorganizacional.dados.gov.br/i...</td>\n      <td>Serviço de Apoio à Gestão Contratual</td>\n    </tr>\n    <tr>\n      <th>22443</th>\n      <td>https://estruturaorganizacional.dados.gov.br/i...</td>\n      <td>Seção de Gestão Estratégica</td>\n    </tr>\n    <tr>\n      <th>64016</th>\n      <td>https://estruturaorganizacional.dados.gov.br/i...</td>\n      <td>Serviço de Gestão Estratégica</td>\n    </tr>\n    <tr>\n      <th>65254</th>\n      <td>https://estruturaorganizacional.dados.gov.br/i...</td>\n      <td>Seção de gestão de contratos</td>\n    </tr>\n    <tr>\n      <th>74534</th>\n      <td>https://estruturaorganizacional.dados.gov.br/i...</td>\n      <td>Setor de Gestão Estratégica</td>\n    </tr>\n    <tr>\n      <th>81855</th>\n      <td>https://estruturaorganizacional.dados.gov.br/i...</td>\n      <td>Secretaria de Gestão e Inovação</td>\n    </tr>\n  </tbody>\n</table>\n</div>"
          },
          "metadata": {}
        }
      ],
      "execution_count": 29
    },
    {
      "cell_type": "markdown",
      "source": "A \"SEGES\" que queremos é a última da lista.",
      "metadata": {}
    },
    {
      "cell_type": "code",
      "source": "unidades_sigla_seges.iloc[-1]",
      "metadata": {
        "trusted": true
      },
      "outputs": [
        {
          "execution_count": 30,
          "output_type": "execute_result",
          "data": {
            "text/plain": "codigoUnidade    https://estruturaorganizacional.dados.gov.br/i...\nnome                               Secretaria de Gestão e Inovação\nName: 81855, dtype: object"
          },
          "metadata": {}
        }
      ],
      "execution_count": 30
    },
    {
      "cell_type": "code",
      "source": "CODIGO_SEGES = unidades_sigla_seges.iloc[-1][\"codigoUnidade\"]\nCODIGO_SEGES",
      "metadata": {
        "trusted": true
      },
      "outputs": [
        {
          "execution_count": 31,
          "output_type": "execute_result",
          "data": {
            "text/plain": "'https://estruturaorganizacional.dados.gov.br/id/unidade-organizacional/37003'"
          },
          "metadata": {}
        }
      ],
      "execution_count": 31
    },
    {
      "cell_type": "markdown",
      "source": "Para entender a estrutura, vamos ver o que está diretamente abaixo da SEGES.",
      "metadata": {}
    },
    {
      "cell_type": "code",
      "source": "df[df[\"codigoUnidadePai\"] == CODIGO_SEGES].loc[:,[\"nome\", \"sigla\"]]",
      "metadata": {
        "trusted": true
      },
      "outputs": [
        {
          "execution_count": 33,
          "output_type": "execute_result",
          "data": {
            "text/plain": "                                                    nome        sigla\n81996              Diretoria de Modelos Organizacionais         DEMOR\n82054       Diretoria de Normas e Sistemas de Logística         DELOG\n82136  Comissão Interministerial de Sustentabilidade ...        CISAP\n82170  Diretoria de Informações, Serviços e Sistemas ...        DTGES\n82252  Comitê Gestor da Rede Nacional de Contratações...       CGRNCP\n82299                                Central de Compras       CENTRAL\n82409             Comissão Gestora da Plataforma +Brasil        CGPBr\n82605                                           Gabinete  GABIN-SEGES\n82616   Diretoria de Transferências e Parcerias da União        DTPAR\n82707                Diretoria de Inovação Governamental        DINOV\n82752                         Comissão Gestora do Sigpar     CGSigpar",
            "text/html": "<div>\n<style scoped>\n    .dataframe tbody tr th:only-of-type {\n        vertical-align: middle;\n    }\n\n    .dataframe tbody tr th {\n        vertical-align: top;\n    }\n\n    .dataframe thead th {\n        text-align: right;\n    }\n</style>\n<table border=\"1\" class=\"dataframe\">\n  <thead>\n    <tr style=\"text-align: right;\">\n      <th></th>\n      <th>nome</th>\n      <th>sigla</th>\n    </tr>\n  </thead>\n  <tbody>\n    <tr>\n      <th>81996</th>\n      <td>Diretoria de Modelos Organizacionais</td>\n      <td>DEMOR</td>\n    </tr>\n    <tr>\n      <th>82054</th>\n      <td>Diretoria de Normas e Sistemas de Logística</td>\n      <td>DELOG</td>\n    </tr>\n    <tr>\n      <th>82136</th>\n      <td>Comissão Interministerial de Sustentabilidade ...</td>\n      <td>CISAP</td>\n    </tr>\n    <tr>\n      <th>82170</th>\n      <td>Diretoria de Informações, Serviços e Sistemas ...</td>\n      <td>DTGES</td>\n    </tr>\n    <tr>\n      <th>82252</th>\n      <td>Comitê Gestor da Rede Nacional de Contratações...</td>\n      <td>CGRNCP</td>\n    </tr>\n    <tr>\n      <th>82299</th>\n      <td>Central de Compras</td>\n      <td>CENTRAL</td>\n    </tr>\n    <tr>\n      <th>82409</th>\n      <td>Comissão Gestora da Plataforma +Brasil</td>\n      <td>CGPBr</td>\n    </tr>\n    <tr>\n      <th>82605</th>\n      <td>Gabinete</td>\n      <td>GABIN-SEGES</td>\n    </tr>\n    <tr>\n      <th>82616</th>\n      <td>Diretoria de Transferências e Parcerias da União</td>\n      <td>DTPAR</td>\n    </tr>\n    <tr>\n      <th>82707</th>\n      <td>Diretoria de Inovação Governamental</td>\n      <td>DINOV</td>\n    </tr>\n    <tr>\n      <th>82752</th>\n      <td>Comissão Gestora do Sigpar</td>\n      <td>CGSigpar</td>\n    </tr>\n  </tbody>\n</table>\n</div>"
          },
          "metadata": {}
        }
      ],
      "execution_count": 33
    }
  ]
}