{
  "nbformat": 4,
  "nbformat_minor": 0,
  "metadata": {
    "colab": {
      "provenance": [],
      "include_colab_link": true
    },
    "kernelspec": {
      "name": "python3",
      "display_name": "Python 3"
    },
    "language_info": {
      "name": "python"
    }
  },
  "cells": [
    {
      "cell_type": "markdown",
      "metadata": {
        "id": "view-in-github",
        "colab_type": "text"
      },
      "source": [
        "<a href=\"https://colab.research.google.com/github/marcelo7bastos/dados_aberto_pgc_pca/blob/main/pgc_pca_itens_apresentacao.ipynb\" target=\"_parent\"><img src=\"https://colab.research.google.com/assets/colab-badge.svg\" alt=\"Open In Colab\"/></a>"
      ]
    },
    {
      "cell_type": "markdown",
      "source": [
        "<p align=\"center\">\n",
        "  <img src=\"https://drive.google.com/uc?export=view&id=1tgqynd9_ez9vwMf8A0I34MoGkbLLqk3n\" alt=\"MGI\" style=\"width:15%;\">\n",
        "  <img src=\"https://drive.google.com/uc?export=view&id=1H1UJH83UIQJKrpFTgvui4Pgh-wBN-1kS\" alt=\"Open Datasets Seges\" style=\"width:48%;\">\n",
        "</p>\n",
        "\n",
        "\n",
        "---"
      ],
      "metadata": {
        "id": "432sNWTNkp7x"
      }
    },
    {
      "cell_type": "markdown",
      "source": [
        "```\n",
        "Lei do Governo Digital LEI Nº 14.129, DE 29 DE MARÇO DE 2021\n",
        "\n",
        "IV - dados abertos: dados acessíveis ao público, representados em meio\n",
        "digital, estruturados em formato aberto, processáveis por máquina,\n",
        "referenciados na internet e disponibilizados sob licença aberta que\n",
        "permita sua livre utilização, consumo ou tratamento por qualquer pessoa,\n",
        "física ou jurídica;\n",
        "```\n"
      ],
      "metadata": {
        "id": "rQh6fAUHjcYt"
      }
    },
    {
      "cell_type": "markdown",
      "source": [
        "# 📋 Entendendo o Negócio"
      ],
      "metadata": {
        "id": "6PQx8NV6Fllp"
      }
    },
    {
      "cell_type": "markdown",
      "source": [
        "*objetivo da análise*\n",
        "\n",
        "\n",
        "> **Criar um ranking dos itens com maior volume financeiro previsto em 2023 no PGC - sistema de planejamento e gerenciamento de contratações**\n"
      ],
      "metadata": {
        "id": "PJvW3VoGnYHk"
      }
    },
    {
      "cell_type": "markdown",
      "source": [
        "*curiosidade*\n",
        "\n",
        "> O objetivo do PGC é otimizar os processos de compras e contratações, garantindo maior eficiência, economicidade e transparência."
      ],
      "metadata": {
        "id": "9jUUBmWyoarj"
      }
    },
    {
      "cell_type": "markdown",
      "source": [
        "*restrições*\n",
        "\n",
        ">Só podem ser usados dados do [Compras Públicas do Governo Federal](https://dados.gov.br/dados/conjuntos-dados/compras-publicas-do-governo-federal)\n"
      ],
      "metadata": {
        "id": "Hu6snGpiojDv"
      }
    },
    {
      "cell_type": "markdown",
      "source": [
        "*documentação oficial*\n",
        ">* [dadosabertos.compras.gov 1.0](https://documenter.getpostman.com/view/29812398/2s9YXe84kb#intro)\n",
        ">\n",
        ">* [swagger](https://dadosabertos.compras.gov.br/swagger-ui/index.html#/)\n",
        "\n"
      ],
      "metadata": {
        "id": "Q-jzcOkLq7Wu"
      }
    },
    {
      "cell_type": "markdown",
      "source": [
        "*dados do projeto*\n",
        ">\n",
        ">* [repositório google drive](https://drive.google.com/drive/folders/1Cya_OcALYEGsmoudjIEv3l_-gaQNr6G1?usp=sharing)\n",
        ">\n",
        ">* [github](https://github.com/marcelo7bastos/dados_aberto_pgc_pca)"
      ],
      "metadata": {
        "id": "M_4I5Jc-D6XR"
      }
    },
    {
      "cell_type": "markdown",
      "source": [
        "*passo a passo*\n",
        "\n",
        "> 1. Lista de órgãos por cnpj\n",
        "> 2. Consultar todos os itens do PGC por cnpj\n",
        "> 3. Apresentar os dados\n",
        "\n",
        "\n",
        "\n",
        "\n",
        "\n",
        "\n"
      ],
      "metadata": {
        "id": "cAhD2tv04d9e"
      }
    },
    {
      "cell_type": "markdown",
      "source": [
        "*origem dos dados*\n",
        "\n",
        "\n",
        "> **APIs**\n",
        ">\n",
        ">[swagger](https://dadosabertos.compras.gov.br/swagger-ui/index.html#/):\n",
        "\n",
        "![swagger](https://drive.google.com/uc?export=view&id=1W1qD4zuFOQ3Oxi8CSAmwcrLjbOP8iLbz)"
      ],
      "metadata": {
        "id": "BFz3QU02ybvc"
      }
    },
    {
      "cell_type": "markdown",
      "source": [
        "#  ✈ Valendo!! ✈"
      ],
      "metadata": {
        "id": "swWbrLD8rrT5"
      }
    },
    {
      "cell_type": "code",
      "execution_count": 2,
      "metadata": {
        "id": "Hvn3T7_frerN",
        "colab": {
          "base_uri": "https://localhost:8080/"
        },
        "outputId": "4ab1a203-4350-4251-9dce-86899026042d",
        "cellView": "form"
      },
      "outputs": [
        {
          "output_type": "stream",
          "name": "stdout",
          "text": [
            "Mounted at /content/drive\n"
          ]
        }
      ],
      "source": [
        "# @title Feramentas necessárias\n",
        "# Import\n",
        "import requests\n",
        "import os\n",
        "import requests\n",
        "import pandas as pd\n",
        "import matplotlib.pyplot as plt\n",
        "from tqdm import tqdm  # Importa o tqdm\n",
        "from time import sleep\n",
        "from IPython.display import IFrame\n",
        "\n",
        "from google.colab import drive\n",
        "drive.mount('/content/drive')"
      ]
    },
    {
      "cell_type": "markdown",
      "source": [
        "# 🖇 1. Listar ógãos por CNPJ 🖇\n"
      ],
      "metadata": {
        "id": "0iNOO3UWDbla"
      }
    },
    {
      "cell_type": "markdown",
      "source": [
        "Ler os dados em: \"GET /modulo-uasg/2_consultarOrgao\n",
        "\n",
        "Swagger: https://dadosabertos.compras.gov.br/swagger-ui/index.html#/5%20-%20UASG/consultarOrgao\n",
        "\n",
        "Exemplo: https://dadosabertos.compras.gov.br/modulo-uasg/2_consultarOrgao?pagina=1&statusOrgao=true&usoSisg=true\n",
        "\n"
      ],
      "metadata": {
        "id": "EP9RwTktFb_l"
      }
    },
    {
      "cell_type": "code",
      "source": [
        "#função consulta cnpj\n",
        "def get_2_consultar_orgao(pagina, tamanho_pagina):\n",
        "    \"\"\"\n",
        "    Faz uma solicitação GET para consultar órgãos da API de Dados Abertos do Governo.\n",
        "\n",
        "    Args:\n",
        "        pagina (int): Número da página de resultados a ser consultada.\n",
        "        tamanho_pagina (int): Número de registros por página.\n",
        "\n",
        "    Returns:\n",
        "        response (requests.Response): Objeto de resposta contendo os dados JSON, se a solicitação for bem-sucedida.\n",
        "    \"\"\"\n",
        "    url = \"https://dadosabertos.compras.gov.br/modulo-uasg/2_consultarOrgao\"\n",
        "    params = {\n",
        "        \"pagina\": pagina,\n",
        "        \"tamanhoPagina\": tamanho_pagina,\n",
        "        \"statusOrgao\": \"true\", #Seria necessário consultar statusOrgao False?\n",
        "        \"usoSisg\": \"true\"\n",
        "    }\n",
        "    headers = {\"accept\": \"*/*\"}\n",
        "    try:\n",
        "        response = requests.get(url, params=params, headers=headers)\n",
        "        response.raise_for_status()  # Levanta uma exceção para respostas de erro (4xx, 5xx)\n",
        "        return response\n",
        "    except requests.exceptions.HTTPError as e:\n",
        "        print(f\"Erro HTTP: {e}\")\n",
        "    except requests.exceptions.RequestException as e:\n",
        "        print(f\"Erro ao fazer a solicitação: {e}\")"
      ],
      "metadata": {
        "id": "_3ON9mjq6vM2"
      },
      "execution_count": null,
      "outputs": []
    },
    {
      "cell_type": "code",
      "source": [
        "#teste da função\n",
        "teste_funcao_consulta_orgao = get_2_consultar_orgao(1,50)\n",
        "teste_funcao_consulta_orgao"
      ],
      "metadata": {
        "id": "5krIWv9YqEI_",
        "colab": {
          "base_uri": "https://localhost:8080/"
        },
        "outputId": "42c61235-4ccf-4350-cfd9-3b12247a3b68"
      },
      "execution_count": null,
      "outputs": [
        {
          "output_type": "execute_result",
          "data": {
            "text/plain": [
              "<Response [200]>"
            ]
          },
          "metadata": {},
          "execution_count": 3
        }
      ]
    },
    {
      "cell_type": "code",
      "source": [
        "#teste melhorando a visualização\n",
        "teste_funcao_consulta_orgao.json()"
      ],
      "metadata": {
        "id": "1lUNNG5d8Oc6"
      },
      "execution_count": null,
      "outputs": []
    },
    {
      "cell_type": "code",
      "source": [
        "#preciso, na verdade, de todos os órgão. Função com loop para pegar todas as páginas.\n",
        "#aproveitamos para trazer apenas os dados relevantes: 'nomeOrgao', 'cnpjCpfOrgao'\n",
        "def listar_orgaos(tamanho_pagina=500):\n",
        "    \"\"\"\n",
        "    Lista todos os órgãos consultando todas as páginas disponíveis.\n",
        "\n",
        "    Args:\n",
        "        tamanho_pagina: Quantidade de registros por página.\n",
        "\n",
        "    Returns:\n",
        "        DataFrame com os dados de todos os órgãos listados.\n",
        "    \"\"\"\n",
        "    pagina = 1\n",
        "    df_resultado_orgao = pd.DataFrame(columns=['nomeOrgao', 'cnpjCpfOrgao'])\n",
        "    while True:\n",
        "        data = get_2_consultar_orgao(pagina, tamanho_pagina).json()\n",
        "        if data and \"resultado\" in data:\n",
        "            df_temp = pd.DataFrame(data[\"resultado\"], columns=['nomeOrgao', 'cnpjCpfOrgao'])\n",
        "            df_resultado_orgao = pd.concat([df_resultado_orgao, df_temp], ignore_index=True)\n",
        "            print(f\"Página {pagina} processada.\")\n",
        "            pagina += 1\n",
        "            if pagina > data.get(\"totalPaginas\", 0):\n",
        "                break\n",
        "        else:\n",
        "            print(\"Erro ao processar dados ou chave 'resultado' não encontrada.\")\n",
        "            break\n",
        "    return df_resultado_orgao"
      ],
      "metadata": {
        "id": "dBXRYgR_Gc3p"
      },
      "execution_count": null,
      "outputs": []
    },
    {
      "cell_type": "code",
      "source": [
        "#teste da função listar_orgaos\n",
        "teste_lista_orgaos = listar_orgaos()\n",
        "display(teste_lista_orgaos)"
      ],
      "metadata": {
        "id": "XWF3Us-M8xNC"
      },
      "execution_count": null,
      "outputs": []
    },
    {
      "cell_type": "code",
      "source": [
        "#um aprimoramento, trazendo apenas os dados com CNPJs diferentes de zero.\n",
        "def lista_cnpjCpfOrgao_validos():\n",
        "    \"\"\"\n",
        "    Filtra os CNPJs válidos (diferentes de 0) do DataFrame retornado pela função listar_orgaos\n",
        "    e retorna uma lista dos CNPJs/CPFs válidos, removendo duplicatas.\n",
        "\n",
        "    Returns:\n",
        "        list: Lista contendo os CNPJs/CPFs válidos dos órgãos, sem duplicatas.\n",
        "    \"\"\"\n",
        "    df = listar_orgaos()  # Obtém o DataFrame com os dados dos órgãos\n",
        "    coluna = 'cnpjCpfOrgao'  # Define a coluna a ser filtrada\n",
        "\n",
        "    # Filtra o DataFrame para incluir apenas linhas onde o CNPJ/CPF é diferente de '0'\n",
        "    df_filtrado = df[df[coluna] != '0']\n",
        "\n",
        "    # Remove duplicatas baseado na coluna de CNPJs/CPFs\n",
        "    df_filtrado_sem_duplicatas = df_filtrado.drop_duplicates(subset=[coluna])\n",
        "\n",
        "    # Converte a coluna de CNPJs/CPFs filtrada e sem duplicatas em uma lista\n",
        "    lista_cnpj_validos = df_filtrado_sem_duplicatas[coluna].tolist()\n",
        "\n",
        "    return lista_cnpj_validos"
      ],
      "metadata": {
        "id": "hCP04xTgJpor"
      },
      "execution_count": null,
      "outputs": []
    },
    {
      "cell_type": "markdown",
      "source": [
        "pronto, agora temos nossa função pronta para listar todos os cnpjs necessário na consulta!\n",
        "\n",
        "\n",
        "---\n",
        "---\n",
        "\n"
      ],
      "metadata": {
        "id": "pcRckvV8-JBQ"
      }
    },
    {
      "cell_type": "markdown",
      "source": [
        "# ➿ 2. Consultar todos os itens por cnpj ➿"
      ],
      "metadata": {
        "id": "NWx_qzA3-aQm"
      }
    },
    {
      "cell_type": "markdown",
      "source": [
        "Ler os dados em:\"GET /modulo-pgc/1_consultarPgcDetalhe\n",
        "\n",
        "\n",
        "Swagger: https://dadosabertos.compras.gov.br/swagger-ui/index.html#/4%20-%20PGC/consultarPgcDetalhe\n",
        "\n",
        "Exemplo: https://dadosabertos.compras.gov.br/modulo-pgc/1_consultarPgcDetalhe?pagina=1&tamanhoPagina=50&orgao=00394494000136&anoPcaProjetoCompra=2023"
      ],
      "metadata": {
        "id": "ZGqwPQ81wq7N"
      }
    },
    {
      "cell_type": "code",
      "source": [
        "#função para ler um órgão, em um determinado ano, passando a página e o tamanho da página\n",
        "def get_1_consultar_pgc_detalhe(orgao, ano_pca_projeto_compra, pagina, tamanho_pagina):\n",
        "    \"\"\"\n",
        "    Faz uma solicitação GET à API de Dados Abertos do Governo para consultar detalhes do PGC (Plano de Contratações Anuais) de um determinado órgão.\n",
        "\n",
        "    Args:\n",
        "        orgao (str): Identificador do órgão para o qual os detalhes do PGC serão consultados.\n",
        "        ano_pca_projeto_compra (int): Ano do Plano de Contratações Anuais a ser consultado.\n",
        "        pagina (int): Número da página de resultados a ser consultada.\n",
        "        tamanho_pagina (int): Número de registros por página.\n",
        "\n",
        "    Returns:\n",
        "        requests.Response: Objeto de resposta contendo os dados JSON da página solicitada, se a solicitação for bem-sucedida.\n",
        "\n",
        "    Raises:\n",
        "        requests.exceptions.HTTPError: Se a solicitação HTTP resultar em um erro de cliente (4xx) ou servidor (5xx).\n",
        "        requests.exceptions.RequestException: Para outros tipos de erros de solicitação, como problemas de conexão.\n",
        "\n",
        "    Exemplo:\n",
        "        resposta = get_1_consultar_pgc_detalhe('00394452000103', 2023, 1, 50)\n",
        "        dados = resposta.json()\n",
        "        print(dados)\n",
        "    \"\"\"\n",
        "    url = \"https://dadosabertos.compras.gov.br/modulo-pgc/1_consultarPgcDetalhe\"\n",
        "    params = {\n",
        "        \"orgao\": orgao,\n",
        "        \"anoPcaProjetoCompra\": ano_pca_projeto_compra,\n",
        "        \"pagina\": pagina,\n",
        "        \"tamanhoPagina\": tamanho_pagina\n",
        "    }\n",
        "    headers = {\"accept\": \"*/*\"}\n",
        "\n",
        "    try:\n",
        "        response = requests.get(url, params=params, headers=headers)\n",
        "        response.raise_for_status()  # Levanta uma exceção para respostas de erro\n",
        "        return response\n",
        "    except requests.exceptions.HTTPError as e:\n",
        "        print(f\"Erro HTTP: {e}\")\n",
        "        raise\n",
        "    except requests.exceptions.RequestException as e:\n",
        "        print(f\"Erro ao fazer a solicitação: {e}\")\n",
        "        raise\n"
      ],
      "metadata": {
        "id": "PyP6-7GGsOVd"
      },
      "execution_count": null,
      "outputs": []
    },
    {
      "cell_type": "code",
      "source": [
        "#vamos testar??\n",
        "resposta = get_1_consultar_pgc_detalhe('00394494000136', 2023, 1, 50)\n",
        "dados = resposta.json()\n",
        "display(dados)"
      ],
      "metadata": {
        "id": "2_XWeFcJB5PB"
      },
      "execution_count": null,
      "outputs": []
    },
    {
      "cell_type": "markdown",
      "source": [
        "pronto, agora temos nossa função pronta para listar todos os cnpjs e realizar a consulta indo no detalhe!\n",
        "\n",
        "\n",
        "---\n",
        "---"
      ],
      "metadata": {
        "id": "FMJhBQHn_tGl"
      }
    },
    {
      "cell_type": "markdown",
      "source": [
        "# Raspando os dados 🧺"
      ],
      "metadata": {
        "id": "CfItMxQgAES9"
      }
    },
    {
      "cell_type": "markdown",
      "source": [
        "*observação: para fins didáticos e por conta do nosso tempo, vou reduzir o tamanho da lista de CNPJs a serem consultados!*"
      ],
      "metadata": {
        "id": "qDAjizxTAs_g"
      }
    },
    {
      "cell_type": "code",
      "source": [
        "# @title Extrair dados com órgãos e quantidade de registro\n",
        "\n",
        "# Supondo que estas são as funções e variáveis definidas em algum lugar do seu código\n",
        "#orgaos = lista_cnpjCpfOrgao_validos()\n",
        "orgaos = ['9773169000159', '00119784000171', '00394445000101' ]  # Apenas para teste\n",
        "\n",
        "anos_pca_projeto_compra = [2023]\n",
        "tamanho_pagina = 50\n",
        "\n",
        "# Lista para armazenar os dados coletados\n",
        "data_total_registros = []\n",
        "# Lista para armazenar os erros\n",
        "erros = []\n",
        "\n",
        "# Função para realizar a chamada à API com retentativas\n",
        "def chamar_api_com_retentativa(orgao, ano, pagina, tamanho_pagina, max_tentativas=6):\n",
        "    tentativas = 0\n",
        "    while tentativas < max_tentativas:\n",
        "        try:\n",
        "            response = get_1_consultar_pgc_detalhe(orgao, ano, pagina, tamanho_pagina)\n",
        "            if response.status_code == 200:\n",
        "                return response\n",
        "            else:\n",
        "                print(f\"Tentativa {tentativas + 1} falhou: Código de status {response.status_code}\")\n",
        "                tentativas += 1\n",
        "                sleep(1)  # Espera 1 segundo antes da próxima tentativa\n",
        "        except requests.exceptions.RequestException as e:\n",
        "            print(f\"Tentativa {tentativas + 1} falhou: {e}\")\n",
        "            tentativas += 1\n",
        "            sleep(1)\n",
        "    return None\n",
        "\n",
        "# Loop pelos anos com barra de progresso do tqdm\n",
        "for ano in tqdm(anos_pca_projeto_compra, desc='Anos'):\n",
        "    # Loop pelos órgãos com barra de progresso do tqdm\n",
        "    for orgao in tqdm(orgaos, desc='Órgãos', leave=False):\n",
        "        print(f\"Processando órgão {orgao} para o ano {ano}\")\n",
        "        pagina = 1  # Definindo a página inicial\n",
        "\n",
        "        # Chama a API com retentativas\n",
        "        response = chamar_api_com_retentativa(orgao, ano, pagina, tamanho_pagina)\n",
        "\n",
        "        if response and response.status_code == 200:\n",
        "            data = response.json()\n",
        "            total_registros = data.get(\"totalRegistros\", 0)  # Usa .get para evitar KeyError\n",
        "\n",
        "            # Adiciona o total de registros coletado à lista\n",
        "            data_total_registros.append({\n",
        "                \"ano\": ano,\n",
        "                \"orgao\": orgao,\n",
        "                \"totalRegistros\": total_registros\n",
        "            })\n",
        "        else:\n",
        "            erro = {\"ano\": ano, \"orgao\": orgao, \"erro\": \"Falha após máximas tentativas ou erro de rede\"}\n",
        "            erros.append(erro)\n",
        "            print(f\"Erro registrado para o órgão {orgao} no ano {ano}\")\n",
        "\n",
        "# Criação dos DataFrames\n",
        "df_total_registros = pd.DataFrame(data_total_registros)\n",
        "df_erros = pd.DataFrame(erros)\n",
        "\n",
        "# Exibição do DataFrame dos registros\n",
        "print(df_total_registros)\n",
        "# Exibição do DataFrame dos erros\n",
        "print(df_erros)\n"
      ],
      "metadata": {
        "cellView": "form",
        "id": "xjIrnLUy0kT1"
      },
      "execution_count": null,
      "outputs": []
    },
    {
      "cell_type": "code",
      "source": [
        "# @title Resultado da Extração\n",
        "# quem quiser já guardar o resultado num CSV, pode ser interessante\n",
        "#df_total_registros.to_csv('df_total_registros.csv')\n",
        "\n",
        "# Transformando os registros  numa lista\n",
        "lista_orgaos_c_pgc = df_total_registros[df_total_registros['totalRegistros'] > 0]['orgao'].tolist()\n",
        "\n",
        "#Quantos registros tínhamos e quantos temos agora?\n",
        "print(f\"O total de CNPJs na lista original é {len(df_total_registros)}, e serão na lista final é {len(lista_orgaos_c_pgc)}. E, no total, tem-se {df_total_registros['totalRegistros'].sum()} itens.\")\n",
        "\n",
        "print(f\"Tabela com o totla de registros por órgão\")\n",
        "display(df_total_registros)"
      ],
      "metadata": {
        "id": "zOwJkhlslF52",
        "cellView": "form"
      },
      "execution_count": null,
      "outputs": []
    },
    {
      "cell_type": "code",
      "source": [
        "# @title Extrair dados dos itens\n",
        "\n",
        "#### Entrada de Dados ####\n",
        "orgaos = lista_orgaos_c_pgc #lista de órgãos que efetivamente tem PCA - lembrando que reduzimos a quantidade de CNPJs\n",
        "\n",
        "anos_pca_projeto_compra = [2022, 2023] #poderíamos passar vários anos\n",
        "\n",
        "tamanho_pagina = 500 # Poderíamos alterar o tamanho da páginas\n",
        "\n",
        "#Seleção de colunas com dados de interesse\n",
        "colunas_interesse = ['orgao', 'nomeUasg','tipoItem','codigoClasseMaterial','nomeClasseMaterial','codigoGrupoServico','nomeGrupoServico', 'itemSustentavel', 'codigoItemCatalogo', 'descricaoItemCatalogo', 'valorTotalItem', 'anoPcaProjetoCompra']\n",
        "#### Fim entrada de Dados ####\n",
        "\n",
        "# Inicialização do arquivo CSV\n",
        "if os.path.exists('items_planejados.csv'):\n",
        "    os.remove('items_planejados.csv')  # Remove o arquivo se já existir para começar do zero\n",
        "\n",
        "for ano in anos_pca_projeto_compra:\n",
        "    for orgao in orgaos:\n",
        "        print(f\"Processando órgão {orgao} para o ano {ano}\")\n",
        "        pagina = 1\n",
        "\n",
        "        while True:\n",
        "            try:\n",
        "                response = get_1_consultar_pgc_detalhe(orgao, ano, pagina, tamanho_pagina)\n",
        "                if response.status_code == 200:\n",
        "                    data = response.json()\n",
        "                    if \"resultado\" in data:\n",
        "                        df_temp = pd.DataFrame(data[\"resultado\"], columns=colunas_interesse[:-1])  # Colunas, excluindo ano\n",
        "                        df_temp['anoPcaProjetoCompra'] = ano  # Adiciona coluna de ano\n",
        "\n",
        "                        # Teste se 'codigoItemCatalogo' é nulo e descarte essas linhas\n",
        "                        df_temp = df_temp.dropna(subset=['codigoItemCatalogo'])\n",
        "\n",
        "                        if not df_temp.empty:\n",
        "                            df_temp.to_csv('items_planejados.csv', mode='a', header=not os.path.exists('items_planejados.csv'), index=False)\n",
        "\n",
        "                        total_paginas = data[\"totalPaginas\"]\n",
        "                        print(f\"Página {pagina} de {total_paginas} processada.\")\n",
        "                    else:\n",
        "                        print(\"Erro: chave 'resultado' não encontrada.\")\n",
        "                        break\n",
        "                else:\n",
        "                    print(f\"Erro na solicitação: {response.status_code}\")\n",
        "                    break\n",
        "            except Exception as e:\n",
        "                print(f\"Erro ao processar os dados: {e}\")\n",
        "                break\n",
        "\n",
        "            pagina += 1\n",
        "            if pagina > total_paginas:\n",
        "                break"
      ],
      "metadata": {
        "id": "anxTBv7vPmWO",
        "cellView": "form"
      },
      "execution_count": null,
      "outputs": []
    },
    {
      "cell_type": "markdown",
      "source": [
        "#🕺 3. Apresentar os dados 💃"
      ],
      "metadata": {
        "id": "xeWYC2vv7JV6"
      }
    },
    {
      "cell_type": "code",
      "source": [
        "# @title Tabela\n",
        "df_itens_planejados = pd.read_csv('/content/items_planejados.csv')\n",
        "display(df_itens_planejados)"
      ],
      "metadata": {
        "id": "UjnuLrnVGQvD",
        "cellView": "form"
      },
      "execution_count": null,
      "outputs": []
    },
    {
      "cell_type": "markdown",
      "source": [
        "Caso alguém quera ver o resultado da extração feita em 06/03/2024"
      ],
      "metadata": {
        "id": "l19XbNV_Gv43"
      }
    },
    {
      "cell_type": "code",
      "source": [
        "# @title Extração 06/03/2024\n",
        "# carregar planilha armazenada no local: /content/drive/MyDrive/MGI/pgc_pca/items_planejados.csv\n",
        "df_itens_planejados = pd.read_csv(\"/content/drive/MyDrive/MGI/pgc_pca/items_planejados20240306.csv\")\n",
        "\n",
        "display(df_itens_planejados)\n"
      ],
      "metadata": {
        "id": "h3YwMZ-jL2oS",
        "cellView": "form"
      },
      "execution_count": null,
      "outputs": []
    },
    {
      "cell_type": "markdown",
      "source": [
        "## 3.1 Com um passo a mais..."
      ],
      "metadata": {
        "id": "25NX0v2P-Xr5"
      }
    },
    {
      "cell_type": "code",
      "source": [
        "# @title Painel com os MATERIAS planejados\n",
        "IFrame('https://app.powerbi.com/view?r=eyJrIjoiZWFlZTA2YjctZGJhNy00ZmVhLTlkN2ItN2JjNTQ2Zjc0NGM5IiwidCI6IjNlYzkyOTY5LTVhNTEtNGYxOC04YWM5LWVmOThmYmFmYTk3OCJ9&pageName=ReportSection8c1c4be1e8ccb714b3eb', width=1140, height=540)\n"
      ],
      "metadata": {
        "id": "bxIbuIO9_CNl",
        "cellView": "form"
      },
      "execution_count": null,
      "outputs": []
    },
    {
      "cell_type": "code",
      "source": [
        "# @title Painel com os SERVIÇOS  planejados\n",
        "IFrame('https://app.powerbi.com/view?r=eyJrIjoiZWFlZTA2YjctZGJhNy00ZmVhLTlkN2ItN2JjNTQ2Zjc0NGM5IiwidCI6IjNlYzkyOTY5LTVhNTEtNGYxOC04YWM5LWVmOThmYmFmYTk3OCJ9&pageName=ReportSectionf63e169e0dd38a9042ab', width=1140, height=540)"
      ],
      "metadata": {
        "id": "_180LdLzAji9",
        "cellView": "form"
      },
      "execution_count": null,
      "outputs": []
    },
    {
      "cell_type": "markdown",
      "source": [
        "# ✌Parabéns para a equipe organizadora 💯\n",
        "\n",
        "X - fomento ao desenvolvimento de novas tecnologias destinadas à construção de ambiente de gestão pública participativa e democrática e à melhor oferta de serviços públicos.\n"
      ],
      "metadata": {
        "id": "tz1PLFB5LGgJ"
      }
    },
    {
      "cell_type": "markdown",
      "source": [
        "# Nosso time 🏋\n",
        "\n",
        "* Luiz Gonzaga de Oliveira\n",
        "* Cristina Portela\n",
        "* Magnum Costa\n",
        "* Hugo Souto\n",
        "* Fabiano Brandão\n",
        "* Guilherme Rocha\n",
        "* André Ruperto\n",
        "* [Marcelo Bastos](https://www.linkedin.com/in/marcelo-cabreira-bastos/) <img src=\"https://drive.google.com/uc?id=1AyUiwLMNr4d2bGpay6niCsKuLdETOrPL\" alt=\"lkdn\" width=\"10\">\n"
      ],
      "metadata": {
        "id": "3DFnhjwJGEuT"
      }
    },
    {
      "cell_type": "code",
      "source": [
        "# @title fim\n",
        "print(\"=== Obrigado e Fim! ===\")"
      ],
      "metadata": {
        "colab": {
          "base_uri": "https://localhost:8080/"
        },
        "cellView": "form",
        "id": "6RxLSMY3FG_b",
        "outputId": "f8c9101d-ca35-48e9-f9ab-66bf897c5366"
      },
      "execution_count": null,
      "outputs": [
        {
          "output_type": "stream",
          "name": "stdout",
          "text": [
            "=== Obrigado e Fim! ===\n"
          ]
        }
      ]
    }
  ]
}